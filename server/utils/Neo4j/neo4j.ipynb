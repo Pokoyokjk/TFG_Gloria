{
 "cells": [
  {
   "cell_type": "markdown",
   "id": "3a15f84a",
   "metadata": {},
   "source": [
    "# Neo4j code"
   ]
  },
  {
   "cell_type": "code",
   "execution_count": 7,
   "id": "c03f45eb",
   "metadata": {},
   "outputs": [],
   "source": [
    "import os\n",
    "import requests\n",
    "from neo4j import GraphDatabase\n",
    "import subprocess\n",
    "import time"
   ]
  },
  {
   "cell_type": "markdown",
   "id": "79a1fd6e",
   "metadata": {},
   "source": [
    "### Neo4j connection\n",
    "Docker should be running.\n",
    "Installation and activation of Neo4j with Neosemantics plugin (as in https://neo4j.com/labs/neosemantics/installation/ Docker):\n",
    "```powershell\n",
    "docker run --name testneo4j -p 7474:7474 -p 7687:7687 -d `\n",
    "      -v ${env:USERPROFILE}\\neo4j\\data:/data `\n",
    "      -v ${env:USERPROFILE}\\neo4j\\logs:/logs `\n",
    "      -v ${env:USERPROFILE}\\neo4j\\import:/var/lib/neo4j/import `\n",
    "      -v ${env:USERPROFILE}\\neo4j\\plugins:/plugins `\n",
    "      --env 'NEO4J_PLUGINS=[\\\"apoc\\\", \\\"n10s\\\"]' `\n",
    "      --env NEO4J_AUTH=neo4j/neoforyou `\n",
    "      neo4j:5.20.0 \n",
    "```\n"
   ]
  },
  {
   "cell_type": "code",
   "execution_count": 10,
   "id": "b8967e5c",
   "metadata": {},
   "outputs": [
    {
     "name": "stdout",
     "output_type": "stream",
     "text": [
      "Neo4j connection verified :)\n"
     ]
    }
   ],
   "source": [
    "# Connection setup\n",
    "NEO4J_URI = \"bolt://localhost:7687\" # faster than http, 7687 is the default port for bolt, 7474 for http\n",
    "NEO4J_USER = \"neo4j\"\n",
    "NEO4J_PASSWORD = \"neoforyou\"\n",
    "\n",
    "driver = GraphDatabase.driver(NEO4J_URI, auth=(NEO4J_USER, NEO4J_PASSWORD)) # driver is the main object to interact with the database\n",
    "\n",
    "# verify connection\n",
    "try:\n",
    "    driver.verify_connectivity()\n",
    "    print(\"Neo4j connection verified :)\")\n",
    "except Exception as e:\n",
    "    print(\"Neo4j connection failed :(\"\n",
    "          \"\\nPlease check if docker is running and the correct command to start the Neo4j server\")\n",
    "    print(e)\n",
    "\n",
    "# Sample TTL data\n",
    "# prefix ex, \"Person1\" is type \"Person\" and has the property \"name\" with value \"Juanito\"...\n",
    "sample_ttl = \"\"\"\n",
    "@prefix ex: <http://example.org/> .\n",
    "ex:Person1 a ex:Person ; ex:name \"Juanito\" .\n",
    "ex:Person2 a ex:Person ; ex:name \"Eustaquia\" .\n",
    "\"\"\""
   ]
  },
  {
   "cell_type": "code",
   "execution_count": null,
   "id": "e3df015f",
   "metadata": {},
   "outputs": [],
   "source": [
    "# Only for the first time, to create the database\n",
    "# Create unique URI constraint for RDF import\n",
    "print(\"Creating unique URI constraint for RDF import and initializing graph configuration...\")\n",
    "with driver.session() as session:\n",
    "    session.run(\"\"\"\n",
    "        CREATE CONSTRAINT n10s_unique_uri FOR (r:Resource) REQUIRE r.uri IS UNIQUE\n",
    "    \"\"\")\n",
    "    session.run(\"\"\"\n",
    "        CALL n10s.graphconfig.init();\n",
    "    \"\"\")\n",
    "print(\"Constraint created successfully.\")"
   ]
  },
  {
   "cell_type": "markdown",
   "id": "2e596b6b",
   "metadata": {},
   "source": [
    "### Sample of TTL file into Neo4j"
   ]
  },
  {
   "cell_type": "code",
   "execution_count": 12,
   "id": "1689f104",
   "metadata": {},
   "outputs": [
    {
     "name": "stdout",
     "output_type": "stream",
     "text": [
      "Loading TTL data into Neo4j...\n",
      "TTL data loaded successfully :) Triples loaded: 4\n"
     ]
    }
   ],
   "source": [
    "# Load TTL data into Neo4j using Neosemantics\n",
    "print(\"Loading TTL data into Neo4j...\")\n",
    "with driver.session() as session:\n",
    "    result = session.run(\"\"\"\n",
    "        CALL n10s.rdf.import.inline($data, 'Turtle')\n",
    "    \"\"\", data=sample_ttl)\n",
    "\n",
    "    summary = result.single() # get the first record\n",
    "    if summary and summary[\"terminationStatus\"] == \"OK\":\n",
    "        print(f\"TTL data loaded successfully :) Triples loaded: {summary['triplesLoaded']}\")\n",
    "    else:\n",
    "        print(f\"Failed to load TTL :( But I am sure you can solve the problem: /n {summary}\")"
   ]
  },
  {
   "cell_type": "markdown",
   "id": "3f8929d0",
   "metadata": {},
   "source": [
    "### Verification of loaded data"
   ]
  },
  {
   "cell_type": "code",
   "execution_count": 13,
   "id": "4c463361",
   "metadata": {},
   "outputs": [
    {
     "name": "stdout",
     "output_type": "stream",
     "text": [
      "Running test query on Neo4j graph...\n",
      "<Record n=<Node element_id='4:df59c55f-6175-44fa-9c6b-fa85bf284ad0:0' labels=frozenset({'_GraphConfig'}) properties={'_classLabel': 'Class', '_handleRDFTypes': 0, '_subClassOfRel': 'SCO', '_handleMultival': 0, '_objectPropertyLabel': 'Relationship', '_rangeRel': 'RANGE', '_domainRel': 'DOMAIN', '_keepLangTag': False, '_keepCustomDataTypes': False, '_classNamePropName': 'name', '_handleVocabUris': 0, '_applyNeo4jNaming': False, '_relNamePropName': 'name', '_dataTypePropertyLabel': 'Property', '_subPropertyOfRel': 'SPO'}>>\n",
      "<Record n=<Node element_id='4:df59c55f-6175-44fa-9c6b-fa85bf284ad0:1' labels=frozenset({'_NsPrefDef'}) properties={'ns0': 'http://example2.org/', 'ns1': 'http://example.org/'}>>\n",
      "<Record n=<Node element_id='4:df59c55f-6175-44fa-9c6b-fa85bf284ad0:2' labels=frozenset({'Resource', 'ns0__Person'}) properties={'ns0__name': 'Naira', 'uri': 'http://example2.org/Person2'}>>\n",
      "<Record n=<Node element_id='4:df59c55f-6175-44fa-9c6b-fa85bf284ad0:3' labels=frozenset({'Resource', 'ns0__Person'}) properties={'ns0__name': 'Etelvina', 'uri': 'http://example2.org/Person1'}>>\n",
      "<Record n=<Node element_id='4:df59c55f-6175-44fa-9c6b-fa85bf284ad0:4' labels=frozenset({'_n10sValidatorConfig'}) properties={'_nsq': b\"\\xac\\xed\\x00\\x05sr\\x00\\x11java.util.HashMap\\x05\\x07\\xda\\xc1\\xc3\\x16`\\xd1\\x03\\x00\\x02F\\x00\\nloadFactorI\\x00\\tthresholdxp?@\\x00\\x00\\x00\\x00\\x00\\x0cw\\x08\\x00\\x00\\x00\\x10\\x00\\x00\\x00\\x05t\\x00\\x03Q_1t\\x02cMATCH (focus:`ns0__Person`) WHERE  focus in $touchedNodes AND  NOT all(x in [] +  focus.`ns0__name` where coalesce(toString( x ) = x , false) ) RETURN  focus.uri  as nodeId, n10s.rdf.fullUriFromShortForm('ns0__Person') as nodeType,  'bnode://id/166fddbb61b061c9' as shapeId, 'http://www.w3.org/ns/shacl#DatatypeConstraintComponent' as propertyShape, focus.`ns0__name` as offendingValue, n10s.rdf.fullUriFromShortForm('ns0__name') as propertyName,  'http://www.w3.org/ns/shacl#Violation' as severity, 'property value should be of type ' +  'http://www.w3.org/2001/XMLSchema#string'  as message ,  '' as customMsgt\\x00\\x03Q_3t\\x03+WITH $`bnode://id/166fddbb61b061c9_http://www.w3.org/ns/shacl#minCount` as params MATCH (focus:`ns0__Person`) WHERE  focus in $touchedNodes AND NOT  toInteger(params.minCount) <=  ( size([(focus)-[rel:`ns0__name`]->()| rel ]) +  size([] + coalesce(focus.`ns0__name`, [])) )  RETURN  focus.uri  as nodeId, n10s.rdf.fullUriFromShortForm('ns0__Person') as nodeType,  'bnode://id/166fddbb61b061c9' as shapeId, 'http://www.w3.org/ns/shacl#MinCountConstraintComponent' as propertyShape,  'cardinality (' + (coalesce(size([(focus)-[rel:`ns0__name`]->()| rel ]),0) + coalesce(size([] + focus.`ns0__name`),0)) + ') is outside the defined min-max limits'  as message, n10s.rdf.fullUriFromShortForm('ns0__name') as propertyName,  'http://www.w3.org/ns/shacl#Violation' as severity,null as offendingValue ,  '' as customMsgt\\x00\\x03Q_2t\\x023MATCH (focus:`ns0__Person`)-[r:`ns0__name`]->(x) WHERE  focus in $touchedNodes AND  true RETURN  focus.uri  as nodeId, n10s.rdf.fullUriFromShortForm('ns0__Person') as nodeType,  'bnode://id/166fddbb61b061c9' as shapeId, 'http://www.w3.org/ns/shacl#DatatypeConstraintComponent' as propertyShape,  x.uri as offendingValue, n10s.rdf.fullUriFromShortForm('ns0__name') as propertyName,  'http://www.w3.org/ns/shacl#Violation' as severity,n10s.rdf.fullUriFromShortForm('ns0__name') + ' should be a property, instead it  is a relationship' as message  ,  '' as customMsgt\\x00\\x03Q_5t\\x02$MATCH (focus:`ns0__Person`) WHERE  focus in $touchedNodes AND  focus.`ns0__friendOf` is not null RETURN  focus.uri  as nodeId, n10s.rdf.fullUriFromShortForm('ns0__Person') as nodeType,  'bnode://id/166fddbb61b061c8' as shapeId, 'http://www.w3.org/ns/shacl#ClassConstraintComponent' as propertyShape, focus.`ns0__friendOf` as offendingValue, n10s.rdf.fullUriFromShortForm('ns0__friendOf') as propertyName,  'http://www.w3.org/ns/shacl#Violation' as severity,'ns0__friendOf should be a relationship but it is a property' as message ,  '' as customMsgt\\x00\\x03Q_4t\\x02-MATCH (focus:`ns0__Person`)-[r:`ns0__friendOf`]->(x) WHERE  focus in $touchedNodes AND NOT x:`ns0__Person` RETURN  focus.uri  as nodeId, n10s.rdf.fullUriFromShortForm('ns0__Person') as nodeType,  'bnode://id/166fddbb61b061c8' as shapeId, 'http://www.w3.org/ns/shacl#ClassConstraintComponent' as propertyShape,  x.uri  as offendingValue, n10s.rdf.fullUriFromShortForm('ns0__friendOf') as propertyName,  'http://www.w3.org/ns/shacl#Violation' as severity, 'value should be of type ' + n10s.rdf.fullUriFromShortForm('ns0__Person') as message ,  '' as customMsgx\", '_constraintList': b\"\\xac\\xed\\x00\\x05sr\\x00\\x13java.util.ArrayListx\\x81\\xd2\\x1d\\x99\\xc7a\\x9d\\x03\\x00\\x01I\\x00\\x04sizexp\\x00\\x00\\x00\\x04w\\x04\\x00\\x00\\x00\\x04sr\\x00#n10s.validation.ConstraintComponent\\xf9\\x7f\\xfa\\xf3Ooo\\xa6\\x02\\x00\\x04L\\x00\\x05paramt\\x00\\x12Ljava/lang/String;L\\x00\\x1apropertyOrRelationshipPathq\\x00~\\x00\\x03L\\x00\\x06targetq\\x00~\\x00\\x03L\\x00\\x05valuet\\x00\\x12Ljava/lang/Object;xpt\\x00\\x0bsh:datatypet\\x00\\tns0__namet\\x00\\x0bns0__Persont\\x00'http://www.w3.org/2001/XMLSchema#stringsq\\x00~\\x00\\x02t\\x00\\x0bsh:minCountq\\x00~\\x00\\x07q\\x00~\\x00\\x08sr\\x00\\x11java.lang.Integer\\x12\\xe2\\xa0\\xa4\\xf7\\x81\\x878\\x02\\x00\\x01I\\x00\\x05valuexr\\x00\\x10java.lang.Number\\x86\\xac\\x95\\x1d\\x0b\\x94\\xe0\\x8b\\x02\\x00\\x00xp\\x00\\x00\\x00\\x01sq\\x00~\\x00\\x02t\\x00\\x0bsh:NodeKindt\\x00\\rns0__friendOft\\x00\\x0bns0__Persont\\x00'http://www.w3.org/ns/shacl#IRIOrLiteralsq\\x00~\\x00\\x02t\\x00\\x08sh:classq\\x00~\\x00\\x11q\\x00~\\x00\\x12t\\x00\\x0bns0__Personx\", '_tl': b'\\xac\\xed\\x00\\x05sr\\x00\\x11java.util.HashMap\\x05\\x07\\xda\\xc1\\xc3\\x16`\\xd1\\x03\\x00\\x02F\\x00\\nloadFactorI\\x00\\tthresholdxp?@\\x00\\x00\\x00\\x00\\x00\\x0cw\\x08\\x00\\x00\\x00\\x10\\x00\\x00\\x00\\x01t\\x00\\x0bns0__Personsr\\x00\\x11java.util.HashSet\\xbaD\\x85\\x95\\x96\\xb8\\xb74\\x03\\x00\\x00xpw\\x0c\\x00\\x00\\x00\\x10?@\\x00\\x00\\x00\\x00\\x00\\x05t\\x00\\x03Q_1t\\x00\\x03Q_3t\\x00\\x03Q_2t\\x00\\x03Q_5t\\x00\\x03Q_4xx', '_gq': b\"\\xac\\xed\\x00\\x05sr\\x00\\x11java.util.HashMap\\x05\\x07\\xda\\xc1\\xc3\\x16`\\xd1\\x03\\x00\\x02F\\x00\\nloadFactorI\\x00\\tthresholdxp?@\\x00\\x00\\x00\\x00\\x00\\x0cw\\x08\\x00\\x00\\x00\\x10\\x00\\x00\\x00\\x05t\\x00\\x03Q_1t\\x02GMATCH (focus:`ns0__Person`) WHERE  NOT all(x in [] +  focus.`ns0__name` where coalesce(toString( x ) = x , false) ) RETURN  focus.uri  as nodeId, n10s.rdf.fullUriFromShortForm('ns0__Person') as nodeType,  'bnode://id/166fddbb61b061c9' as shapeId, 'http://www.w3.org/ns/shacl#DatatypeConstraintComponent' as propertyShape, focus.`ns0__name` as offendingValue, n10s.rdf.fullUriFromShortForm('ns0__name') as propertyName,  'http://www.w3.org/ns/shacl#Violation' as severity, 'property value should be of type ' +  'http://www.w3.org/2001/XMLSchema#string'  as message ,  '' as customMsgt\\x00\\x03Q_3t\\x03\\x0fWITH $`bnode://id/166fddbb61b061c9_http://www.w3.org/ns/shacl#minCount` as params MATCH (focus:`ns0__Person`) WHERE NOT  toInteger(params.minCount) <=  ( size([(focus)-[rel:`ns0__name`]->()| rel ]) +  size([] + coalesce(focus.`ns0__name`, [])) )  RETURN  focus.uri  as nodeId, n10s.rdf.fullUriFromShortForm('ns0__Person') as nodeType,  'bnode://id/166fddbb61b061c9' as shapeId, 'http://www.w3.org/ns/shacl#MinCountConstraintComponent' as propertyShape,  'cardinality (' + (coalesce(size([(focus)-[rel:`ns0__name`]->()| rel ]),0) + coalesce(size([] + focus.`ns0__name`),0)) + ') is outside the defined min-max limits'  as message, n10s.rdf.fullUriFromShortForm('ns0__name') as propertyName,  'http://www.w3.org/ns/shacl#Violation' as severity,null as offendingValue ,  '' as customMsgt\\x00\\x03Q_2t\\x02\\x17MATCH (focus:`ns0__Person`)-[r:`ns0__name`]->(x) WHERE  true RETURN  focus.uri  as nodeId, n10s.rdf.fullUriFromShortForm('ns0__Person') as nodeType,  'bnode://id/166fddbb61b061c9' as shapeId, 'http://www.w3.org/ns/shacl#DatatypeConstraintComponent' as propertyShape,  x.uri as offendingValue, n10s.rdf.fullUriFromShortForm('ns0__name') as propertyName,  'http://www.w3.org/ns/shacl#Violation' as severity,n10s.rdf.fullUriFromShortForm('ns0__name') + ' should be a property, instead it  is a relationship' as message  ,  '' as customMsgt\\x00\\x03Q_5t\\x02\\x08MATCH (focus:`ns0__Person`) WHERE  focus.`ns0__friendOf` is not null RETURN  focus.uri  as nodeId, n10s.rdf.fullUriFromShortForm('ns0__Person') as nodeType,  'bnode://id/166fddbb61b061c8' as shapeId, 'http://www.w3.org/ns/shacl#ClassConstraintComponent' as propertyShape, focus.`ns0__friendOf` as offendingValue, n10s.rdf.fullUriFromShortForm('ns0__friendOf') as propertyName,  'http://www.w3.org/ns/shacl#Violation' as severity,'ns0__friendOf should be a relationship but it is a property' as message ,  '' as customMsgt\\x00\\x03Q_4t\\x02\\x11MATCH (focus:`ns0__Person`)-[r:`ns0__friendOf`]->(x) WHERE NOT x:`ns0__Person` RETURN  focus.uri  as nodeId, n10s.rdf.fullUriFromShortForm('ns0__Person') as nodeType,  'bnode://id/166fddbb61b061c8' as shapeId, 'http://www.w3.org/ns/shacl#ClassConstraintComponent' as propertyShape,  x.uri  as offendingValue, n10s.rdf.fullUriFromShortForm('ns0__friendOf') as propertyName,  'http://www.w3.org/ns/shacl#Violation' as severity, 'value should be of type ' + n10s.rdf.fullUriFromShortForm('ns0__Person') as message ,  '' as customMsgx\", '_id': 1, '_params': b'\\xac\\xed\\x00\\x05sr\\x00\\x11java.util.HashMap\\x05\\x07\\xda\\xc1\\xc3\\x16`\\xd1\\x03\\x00\\x02F\\x00\\nloadFactorI\\x00\\tthresholdxp?@\\x00\\x00\\x00\\x00\\x00\\x0cw\\x08\\x00\\x00\\x00\\x10\\x00\\x00\\x00\\x01t\\x00?bnode://id/166fddbb61b061c9_http://www.w3.org/ns/shacl#minCountsq\\x00~\\x00\\x00?@\\x00\\x00\\x00\\x00\\x00\\x0cw\\x08\\x00\\x00\\x00\\x10\\x00\\x00\\x00\\x02t\\x00\\x08minCountsr\\x00\\x11java.lang.Integer\\x12\\xe2\\xa0\\xa4\\xf7\\x81\\x878\\x02\\x00\\x01I\\x00\\x05valuexr\\x00\\x10java.lang.Number\\x86\\xac\\x95\\x1d\\x0b\\x94\\xe0\\x8b\\x02\\x00\\x00xp\\x00\\x00\\x00\\x01t\\x00\\x08maxCountpxx'}>>\n",
      "Neo4j TTL loading test completed :)\n"
     ]
    }
   ],
   "source": [
    "# Read data from Neo4j to check if it was loaded correctly\n",
    "def query_neo4j(tx, query):\n",
    "    result = tx.run(query)\n",
    "    for record in result:\n",
    "        print(record)\n",
    "\n",
    "print(\"Running test query on Neo4j graph...\")\n",
    "with driver.session() as session:\n",
    "    session.execute_read(query_neo4j, \"MATCH (n) RETURN n LIMIT 5\")\n",
    "\n",
    "# Close connection\n",
    "driver.close()\n",
    "\n",
    "print(\"Neo4j TTL loading test completed :)\")"
   ]
  }
 ],
 "metadata": {
  "kernelspec": {
   "display_name": ".venv",
   "language": "python",
   "name": "python3"
  },
  "language_info": {
   "codemirror_mode": {
    "name": "ipython",
    "version": 3
   },
   "file_extension": ".py",
   "mimetype": "text/x-python",
   "name": "python",
   "nbconvert_exporter": "python",
   "pygments_lexer": "ipython3",
   "version": "3.13.1"
  }
 },
 "nbformat": 4,
 "nbformat_minor": 5
}
