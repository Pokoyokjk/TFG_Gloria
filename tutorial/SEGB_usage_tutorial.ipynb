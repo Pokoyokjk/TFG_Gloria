{
 "cells": [
  {
   "cell_type": "markdown",
   "id": "13a518a9",
   "metadata": {},
   "source": [
    "# Semantic Ethical Glass Box (SEGB)"
   ]
  },
  {
   "cell_type": "markdown",
   "id": "99fbe5ef",
   "metadata": {},
   "source": [
    "## 1. Overview \n",
    "\n",
    "The Semantic Ethical Glass Box (SEGB) is global *log* storage, which keeps a semantic registry (graph) of logs generated within different systems. Let's see how to get the most out of it. \n",
    "\n",
    "[!note]\n",
    "This tutorial assumes that the SEGB has already been properly deployed following the deployment tutorial (see [Deployment Tutorial](https://segb.readthedocs.io/en/latest/4_basic_tutorial.html)\n",
    "\n",
    "[!warning]\n",
    "We will not use authentication in this tutorial to make it easy to understand.\n"
   ]
  },
  {
   "cell_type": "markdown",
   "id": "475483a4-c4df-463c-87fe-913fec33e363",
   "metadata": {},
   "source": [
    "### 2. Auxiliary functions\n",
    "\n",
    "We first define some aux functions to make the tutorial easy. "
   ]
  },
  {
   "cell_type": "markdown",
   "id": "22761a82-d9e7-405a-b533-376bcb6bdfe1",
   "metadata": {},
   "source": [
    "#### Functions for interacting with the SEGB's API"
   ]
  },
  {
   "cell_type": "markdown",
   "id": "c1ff4b44-f1de-461b-9ec6-3906db10c17c",
   "metadata": {},
   "source": [
    "Specifically, one function for every endpoint the SEGB's API defines  (see [Basic Tutorial](https://segb.readthedocs.io/en/stable/3_api_documentation.html) for detailed info):"
   ]
  },
  {
   "cell_type": "code",
   "execution_count": 1,
   "id": "960b954d",
   "metadata": {},
   "outputs": [],
   "source": [
    "import requests\n",
    "import json"
   ]
  },
  {
   "cell_type": "code",
   "execution_count": 2,
   "id": "e61572e3-0172-4cb8-9a68-a66abe92e054",
   "metadata": {},
   "outputs": [],
   "source": [
    "def get_health(server: str = \"http://localhost:5000\"):\n",
    "    url = f\"{server}/health\"\n",
    "    response = requests.get(url)\n",
    "    if response.status_code == 200:\n",
    "        print(response.text)\n",
    "    else:\n",
    "        print(f\"Error fetching health: {response.status_code} - {response.text}\")"
   ]
  },
  {
   "cell_type": "code",
   "execution_count": 3,
   "id": "1498f135-b58e-4a0c-bc49-a756344c2903",
   "metadata": {},
   "outputs": [],
   "source": [
    "def post_log_ttl(ttl: str, server: str = \"http://localhost:5000\", token: str = \"fake_token\"):\n",
    "    headers = {\n",
    "        \"Content-Type\": \"text/turtle\",\n",
    "        \"Authorization\": f\"Bearer {token}\"\n",
    "    }\n",
    "    url = f\"{server}/log\"\n",
    "    response = requests.post(url, headers=headers, data=ttl)\n",
    "    if response.status_code == 201:\n",
    "        print(\"POST request completed successfully\")\n",
    "    elif response.status_code in (400, 403):\n",
    "        print(f\"Error in POST: {response.status_code} - {response.text}\")\n",
    "    else:\n",
    "        print(f\"Unexpected status code: {response.status_code} - {response.text}\")\n"
   ]
  },
  {
   "cell_type": "code",
   "execution_count": 51,
   "id": "f5fafa50-f7fe-4665-95f8-cb515bda39f2",
   "metadata": {},
   "outputs": [],
   "source": [
    "def get_log_entry(log_id: str, server: str = \"http://localhost:5000\", token: str = \"fake_token\"):\n",
    "    url = f\"{server}/log\"\n",
    "    headers = {\n",
    "        \"Authorization\": f\"Bearer {token}\"\n",
    "    }\n",
    "    params = {\"log_id\": log_id}\n",
    "    response = requests.get(url, headers=headers, params=params)\n",
    "\n",
    "    if response.status_code == 200:\n",
    "        data = response.json()\n",
    "        print(\"Log entry retrieved successfully:\\n\")\n",
    "\n",
    "        print(\"Log metadata:\")\n",
    "        print(json.dumps(data[\"log\"], indent=2))\n",
    "\n",
    "        if data[\"log\"][\"action_type\"] == \"insertion\":\n",
    "            print(\"\\nTTL Content:\\n\")\n",
    "            print(data[\"action\"][\"ttl_content\"].strip())\n",
    "        elif data[\"log\"][\"action_type\"] == \"deletion\":\n",
    "            print(\"\\nTTL hash at the moment of the deletion:\\n\")\n",
    "            print(data[\"action\"][\"deleted_graph_hash\"].strip())\n",
    "    elif response.status_code in (400, 403, 404):\n",
    "        print(f\"Error retrieving log: {response.status_code} - {response.text}\")\n",
    "    else:\n",
    "        print(f\"Unexpected status code: {response.status_code} - {response.text}\")\n"
   ]
  },
  {
   "cell_type": "code",
   "execution_count": 5,
   "id": "207f550d-46dc-4d4b-acc6-f9e7f898049e",
   "metadata": {},
   "outputs": [],
   "source": [
    "def get_graph(server: str = \"http://localhost:5000\", token: str = \"fake_token\"):\n",
    "    headers = {\"Authorization\": f\"Bearer {token}\"}\n",
    "    url = f\"{server}/graph\"\n",
    "    response = requests.get(url, headers=headers)\n",
    "    if response.status_code == 200:\n",
    "        print(\"Graph retrieved successfully:\")\n",
    "        print(response.text)\n",
    "    elif response.status_code == 204:\n",
    "        print(\"The graph is empty.\")\n",
    "    elif response.status_code == 403:\n",
    "        print(f\"Error retrieving graph: {response.status_code} - {response.text}\")\n",
    "    else:\n",
    "        print(f\"Unexpected status code: {response.status_code} - {response.text}\")\n"
   ]
  },
  {
   "cell_type": "code",
   "execution_count": 6,
   "id": "ce9a0354-2b77-45d7-9da8-4da6561ca1cf",
   "metadata": {},
   "outputs": [],
   "source": [
    "def delete_graph(server: str = \"http://localhost:5000\", token: str = \"fake_token\"):\n",
    "    url = f\"{server}/graph\"\n",
    "    headers = {\"Authorization\": f\"Bearer {token}\"}\n",
    "    response = requests.delete(url, headers=headers)\n",
    "    if response.status_code == 200:\n",
    "        print(\"Graph deleted successfully.\")\n",
    "    elif response.status_code == 204:\n",
    "        print(\"The graph was already empty.\")\n",
    "    elif response.status_code == 403:\n",
    "        print(f\"Error deleting graph: {response.status_code} - {response.text}\")\n",
    "    else:\n",
    "        print(f\"Unexpected status code: {response.status_code} - {response.text}\")\n"
   ]
  },
  {
   "cell_type": "code",
   "execution_count": 7,
   "id": "33501a28-f37f-4460-858d-16ed00e230fa",
   "metadata": {},
   "outputs": [],
   "source": [
    "def get_history(server: str = \"http://localhost:5000\", token: str = \"fake_token\"):\n",
    "    url = f\"{server}/history\"\n",
    "    headers = {\"Authorization\": f\"Bearer {token}\"}\n",
    "    response = requests.get(url, headers=headers)\n",
    "\n",
    "    if response.status_code == 200:\n",
    "        print(\"History retrieved successfully:\")\n",
    "        print(json.dumps(response.json(), indent=2))\n",
    "    elif response.status_code == 204:\n",
    "        print(\"No history found.\")\n",
    "    elif response.status_code == 403:\n",
    "        print(f\"Error retrieving history: {response.status_code} - {response.text}\")\n",
    "    else:\n",
    "        print(f\"Unexpected status code: {response.status_code} - {response.text}\")\n"
   ]
  },
  {
   "cell_type": "markdown",
   "id": "b56e39e5-63c4-4569-813f-c27fa64b8176",
   "metadata": {},
   "source": [
    "#### Functions for post-processing"
   ]
  },
  {
   "cell_type": "code",
   "execution_count": 76,
   "id": "1d234195-57da-4985-89c3-dd9f91190bec",
   "metadata": {},
   "outputs": [],
   "source": [
    "from rdflib import Graph\n",
    "\n",
    "def merge_ttls(ttl_1: str, ttl_2: str):\n",
    "\n",
    "    g1 = Graph()\n",
    "    g2 = Graph()\n",
    "    \n",
    "    g1.parse(data=ttl_1, format=\"turtle\")\n",
    "    g2.parse(data=ttl_2, format=\"turtle\")\n",
    "    \n",
    "    g1 += g2\n",
    "    \n",
    "    merged_ttl = g1.serialize(format=\"json-ld\", encoding=\"utf-8\").decode(\"utf-8\")\n",
    "    \n",
    "    print(f\"\\nThe final graph is:\\n\")\n",
    "    print(merged_ttl)\n",
    "\n",
    "    return merged_ttl"
   ]
  },
  {
   "cell_type": "markdown",
   "id": "b37ca4ab-b7d3-40ff-8684-a8353b1cb5f5",
   "metadata": {},
   "source": [
    "### 3. SEGB's usage tutorial"
   ]
  },
  {
   "cell_type": "markdown",
   "id": "4bd49b0a-2fc2-4a79-8109-5fe840501be3",
   "metadata": {},
   "source": [
    "Let's suppose we have the role of a data scientist who has to publish two TTL into the SEGB:"
   ]
  },
  {
   "cell_type": "code",
   "execution_count": 8,
   "id": "f49d01a5-9b16-413b-b1c6-bbbec0dea34f",
   "metadata": {},
   "outputs": [],
   "source": [
    "ttl_1 = \"\"\"\n",
    "@prefix ex: <http://example.org/> .\n",
    "@prefix prov: <http://www.w3.org/ns/prov#> .\n",
    "@prefix foaf: <http://xmlns.com/foaf/0.1/> .\n",
    "@prefix schema: <http://schema.org/> .\n",
    "\n",
    "ex:dataScientist1 a prov:Person, foaf:Person, schema:Person ;\n",
    "    foaf:firstName \"Pedro\"@es ;\n",
    "    foaf:homepage <http://example.org/pedro> ;\n",
    "    schema:affiliation ex:upm .\n",
    "\"\"\"\n",
    "\n",
    "ttl_2 = \"\"\"\n",
    "@prefix ex: <http://example.org/> .\n",
    "@prefix schema: <http://schema.org/> .\n",
    "@prefix foaf: <http://xmlns.com/foaf/0.1/> .\n",
    "@prefix prov: <http://www.w3.org/ns/prov#> .\n",
    "\n",
    "ex:upm a schema:Organization, foaf:Organization, prov:Organization ;\n",
    "    schema:url <https://www.upm.es> ;\n",
    "    schema:name \"Universidad Politécnica de Madrid\"@es ;\n",
    "    schema:name \"Technical University of Madrid\"@en .\n",
    "\"\"\""
   ]
  },
  {
   "cell_type": "code",
   "execution_count": null,
   "id": "71e4fbf1-f176-405b-8929-cc87e5f49ffb",
   "metadata": {},
   "outputs": [],
   "source": []
  },
  {
   "cell_type": "markdown",
   "id": "78216639-620d-44b2-ae3c-7186ef782749",
   "metadata": {},
   "source": [
    "#### Check if the SEGB is working \n",
    "\n",
    "We first check if the SEGB is working properly by requesting **HTTP GET /graph**."
   ]
  },
  {
   "cell_type": "code",
   "execution_count": 9,
   "id": "4d146195-2af9-4c1f-a18c-b9df96f2e4df",
   "metadata": {},
   "outputs": [
    {
     "name": "stdout",
     "output_type": "stream",
     "text": [
      "The SEGB is working\n"
     ]
    }
   ],
   "source": [
    "get_health()"
   ]
  },
  {
   "cell_type": "markdown",
   "id": "3537c8ee-fd28-4913-a5c2-2a982e6a465d",
   "metadata": {},
   "source": [
    "As the SEGB is working, we save the first TTL, *ttl_1*, by requesting **HTTP POST /log**"
   ]
  },
  {
   "cell_type": "code",
   "execution_count": 10,
   "id": "80d054a8-78ab-463e-adcf-5035643530d2",
   "metadata": {},
   "outputs": [
    {
     "name": "stdout",
     "output_type": "stream",
     "text": [
      "POST request completed successfully\n"
     ]
    }
   ],
   "source": [
    "post_log_ttl(ttl_1)"
   ]
  },
  {
   "cell_type": "markdown",
   "id": "a6e41451-6d38-455f-95b5-54dade753a31",
   "metadata": {},
   "source": [
    "Now we can check the SEGB graph and see the TTL info has been included"
   ]
  },
  {
   "cell_type": "code",
   "execution_count": 11,
   "id": "5f423ac2-0c80-4c04-b1d7-16b777c3f6fd",
   "metadata": {},
   "outputs": [
    {
     "name": "stdout",
     "output_type": "stream",
     "text": [
      "Graph retrieved successfully:\n",
      "@prefix ex: <http://example.org/> .\n",
      "@prefix foaf: <http://xmlns.com/foaf/0.1/> .\n",
      "@prefix prov: <http://www.w3.org/ns/prov#> .\n",
      "@prefix schema1: <http://schema.org/> .\n",
      "\n",
      "ex:dataScientist1 a schema1:Person,\n",
      "        prov:Person,\n",
      "        foaf:Person ;\n",
      "    schema1:affiliation ex:upm ;\n",
      "    foaf:firstName \"Pedro\"@es ;\n",
      "    foaf:homepage ex:pedro .\n",
      "\n",
      "\n"
     ]
    }
   ],
   "source": [
    "get_graph()"
   ]
  },
  {
   "cell_type": "markdown",
   "id": "9c2a89fc-922a-44b1-83b1-cd5be01a284c",
   "metadata": {},
   "source": [
    "We repeat the process for the second TTL and observe how the graph is updated"
   ]
  },
  {
   "cell_type": "code",
   "execution_count": 12,
   "id": "4926f5ad-9d57-45cf-a842-dddff7eb1d93",
   "metadata": {},
   "outputs": [
    {
     "name": "stdout",
     "output_type": "stream",
     "text": [
      "POST request completed successfully\n"
     ]
    }
   ],
   "source": [
    "post_log_ttl(ttl_2)"
   ]
  },
  {
   "cell_type": "code",
   "execution_count": 13,
   "id": "1723f8ba-fe45-45be-94ff-cf4bfa05b673",
   "metadata": {},
   "outputs": [
    {
     "name": "stdout",
     "output_type": "stream",
     "text": [
      "Graph retrieved successfully:\n",
      "@prefix ex: <http://example.org/> .\n",
      "@prefix foaf: <http://xmlns.com/foaf/0.1/> .\n",
      "@prefix prov: <http://www.w3.org/ns/prov#> .\n",
      "@prefix schema1: <http://schema.org/> .\n",
      "\n",
      "ex:dataScientist1 a schema1:Person,\n",
      "        prov:Person,\n",
      "        foaf:Person ;\n",
      "    schema1:affiliation ex:upm ;\n",
      "    foaf:firstName \"Pedro\"@es ;\n",
      "    foaf:homepage ex:pedro .\n",
      "\n",
      "ex:upm a schema1:Organization,\n",
      "        prov:Organization,\n",
      "        foaf:Organization ;\n",
      "    schema1:name \"Technical University of Madrid\"@en,\n",
      "        \"Universidad Politécnica de Madrid\"@es ;\n",
      "    schema1:url <https://www.upm.es> .\n",
      "\n",
      "\n"
     ]
    }
   ],
   "source": [
    "get_graph()"
   ]
  },
  {
   "cell_type": "markdown",
   "id": "c6fe36bb-443b-49f1-8c34-75685b5e4a58",
   "metadata": {},
   "source": [
    "Now, let's suppose the information we have updated is no longer necessary as we are going to register events from a new scenario. In that case we can delete the graph:"
   ]
  },
  {
   "cell_type": "code",
   "execution_count": 14,
   "id": "5044b8f9-286d-4781-81a3-6cb3504010b9",
   "metadata": {},
   "outputs": [
    {
     "name": "stdout",
     "output_type": "stream",
     "text": [
      "Graph deleted successfully.\n"
     ]
    }
   ],
   "source": [
    "delete_graph()"
   ]
  },
  {
   "cell_type": "markdown",
   "id": "3a24ac43-c417-41cc-a40b-bd7231f3b66b",
   "metadata": {},
   "source": [
    "And now the graph must be empty"
   ]
  },
  {
   "cell_type": "code",
   "execution_count": 15,
   "id": "b1fcf499-037f-4025-a220-a3a927cca7c2",
   "metadata": {},
   "outputs": [
    {
     "name": "stdout",
     "output_type": "stream",
     "text": [
      "The graph is empty.\n"
     ]
    }
   ],
   "source": [
    "get_graph()"
   ]
  },
  {
   "cell_type": "markdown",
   "id": "33a9469f-768a-4fac-b7c4-9dbbed6603d7",
   "metadata": {},
   "source": [
    "Now, we update the new info:"
   ]
  },
  {
   "cell_type": "code",
   "execution_count": 16,
   "id": "2add2ba3-b345-4ddd-a0cd-4eb8b825af40",
   "metadata": {},
   "outputs": [],
   "source": [
    "ttl_3 = \"\"\"\n",
    "@prefix ex: <http://example.org/> .\n",
    "@prefix prov: <http://www.w3.org/ns/prov#> .\n",
    "@prefix foaf: <http://xmlns.com/foaf/0.1/> .\n",
    "@prefix schema: <http://schema.org/> .\n",
    "\n",
    "ex:dataScientist1 a prov:Person, foaf:Person, schema:Person ;\n",
    "    foaf:firstName \"Lucía\"@es ;\n",
    "    foaf:homepage <http://example.org/lucia> ;\n",
    "    schema:affiliation ex:us .\n",
    "\"\"\"\n",
    "\n",
    "ttl_4 = \"\"\"\n",
    "@prefix ex: <http://example.org/> .\n",
    "@prefix schema: <http://schema.org/> .\n",
    "@prefix foaf: <http://xmlns.com/foaf/0.1/> .\n",
    "@prefix prov: <http://www.w3.org/ns/prov#> .\n",
    "\n",
    "ex:us a schema:Organization, foaf:Organization, prov:Organization ;\n",
    "    schema:url <https://www.us.es> ;\n",
    "    schema:name \"Universidad de Sevilla\"@es ;\n",
    "    schema:name \"University of Seville\"@en .\n",
    "\"\"\"\n"
   ]
  },
  {
   "cell_type": "code",
   "execution_count": 17,
   "id": "facb75d0-aaa2-4aef-a946-8a3193653ba6",
   "metadata": {},
   "outputs": [
    {
     "name": "stdout",
     "output_type": "stream",
     "text": [
      "POST request completed successfully\n"
     ]
    }
   ],
   "source": [
    "post_log_ttl(ttl_3)"
   ]
  },
  {
   "cell_type": "code",
   "execution_count": 18,
   "id": "c181fa2d-ea8d-4a63-9e49-831ba1e6b3ac",
   "metadata": {},
   "outputs": [
    {
     "name": "stdout",
     "output_type": "stream",
     "text": [
      "POST request completed successfully\n"
     ]
    }
   ],
   "source": [
    "post_log_ttl(ttl_4)"
   ]
  },
  {
   "cell_type": "markdown",
   "id": "8ead31c7-49e3-4ed6-9eb6-301b8319f708",
   "metadata": {},
   "source": [
    "And the new graph is:"
   ]
  },
  {
   "cell_type": "code",
   "execution_count": 19,
   "id": "724cbd74-b0b9-49d5-b9b5-b8529a0a1cd8",
   "metadata": {},
   "outputs": [
    {
     "name": "stdout",
     "output_type": "stream",
     "text": [
      "Graph retrieved successfully:\n",
      "@prefix ex: <http://example.org/> .\n",
      "@prefix foaf: <http://xmlns.com/foaf/0.1/> .\n",
      "@prefix prov: <http://www.w3.org/ns/prov#> .\n",
      "@prefix schema1: <http://schema.org/> .\n",
      "\n",
      "ex:dataScientist1 a schema1:Person,\n",
      "        prov:Person,\n",
      "        foaf:Person ;\n",
      "    schema1:affiliation ex:us ;\n",
      "    foaf:firstName \"Lucía\"@es ;\n",
      "    foaf:homepage ex:lucia .\n",
      "\n",
      "ex:us a schema1:Organization,\n",
      "        prov:Organization,\n",
      "        foaf:Organization ;\n",
      "    schema1:name \"University of Seville\"@en,\n",
      "        \"Universidad de Sevilla\"@es ;\n",
      "    schema1:url <https://www.us.es> .\n",
      "\n",
      "\n"
     ]
    }
   ],
   "source": [
    "get_graph()"
   ]
  },
  {
   "cell_type": "markdown",
   "id": "54f3461c-d770-4216-a1a9-c265fe084677",
   "metadata": {},
   "source": [
    "However, the SEGB's principles indicates that all the information occured within any specific scenario must be always accessed in order to audit it. Thus, altough the info has been deleted from the main graph, we can still retreive the history of every insertion/deletion of data:"
   ]
  },
  {
   "cell_type": "code",
   "execution_count": 20,
   "id": "051a4501-f860-4335-960c-166b813b639f",
   "metadata": {},
   "outputs": [
    {
     "name": "stdout",
     "output_type": "stream",
     "text": [
      "History retrieved successfully:\n",
      "[\n",
      "  {\n",
      "    \"_id\": \"67f5148436cfc7bb52af9cdd\",\n",
      "    \"uploaded_at\": \"2025-04-08T12:20:20.764000\",\n",
      "    \"origin_ip\": \"172.18.0.1\",\n",
      "    \"action_type\": \"insertion\",\n",
      "    \"action\": \"67f5148436cfc7bb52af9cde\"\n",
      "  },\n",
      "  {\n",
      "    \"_id\": \"67f5148436cfc7bb52af9cdf\",\n",
      "    \"uploaded_at\": \"2025-04-08T12:20:20.794000\",\n",
      "    \"origin_ip\": \"172.18.0.1\",\n",
      "    \"action_type\": \"insertion\",\n",
      "    \"action\": \"67f5148436cfc7bb52af9ce0\"\n",
      "  },\n",
      "  {\n",
      "    \"_id\": \"67f5148436cfc7bb52af9ce1\",\n",
      "    \"uploaded_at\": \"2025-04-08T12:20:20.806000\",\n",
      "    \"origin_ip\": \"172.18.0.1\",\n",
      "    \"action_type\": \"deletion\",\n",
      "    \"action\": \"67f5148436cfc7bb52af9ce2\"\n",
      "  },\n",
      "  {\n",
      "    \"_id\": \"67f5148436cfc7bb52af9ce3\",\n",
      "    \"uploaded_at\": \"2025-04-08T12:20:20.827000\",\n",
      "    \"origin_ip\": \"172.18.0.1\",\n",
      "    \"action_type\": \"insertion\",\n",
      "    \"action\": \"67f5148436cfc7bb52af9ce4\"\n",
      "  },\n",
      "  {\n",
      "    \"_id\": \"67f5148436cfc7bb52af9ce5\",\n",
      "    \"uploaded_at\": \"2025-04-08T12:20:20.835000\",\n",
      "    \"origin_ip\": \"172.18.0.1\",\n",
      "    \"action_type\": \"insertion\",\n",
      "    \"action\": \"67f5148436cfc7bb52af9ce6\"\n",
      "  }\n",
      "]\n"
     ]
    }
   ],
   "source": [
    "get_history()"
   ]
  },
  {
   "cell_type": "markdown",
   "id": "2d3173a0-00d8-43f4-b706-335c86dd7cfc",
   "metadata": {},
   "source": [
    "We can observe we have, as expected, **two insertions**, **one deletion** and other **two insertions**"
   ]
  },
  {
   "cell_type": "markdown",
   "id": "1c6e198b-9450-494f-a73c-7d6be6546d33",
   "metadata": {},
   "source": [
    "We can retrieve the information from the first and second insertion by using its id and retrieving \n",
    "the TTL data that was updated at some point"
   ]
  },
  {
   "cell_type": "code",
   "execution_count": 49,
   "id": "71605ed8-6c11-4363-8d45-d38f14ea32ce",
   "metadata": {},
   "outputs": [
    {
     "name": "stdout",
     "output_type": "stream",
     "text": [
      "Log entry retrieved successfully:\n",
      "\n",
      "Log metadata:\n",
      "{\n",
      "  \"_id\": \"67f5148436cfc7bb52af9cdd\",\n",
      "  \"uploaded_at\": \"2025-04-08T12:20:20.764000\",\n",
      "  \"origin_ip\": \"172.18.0.1\",\n",
      "  \"action_type\": \"insertion\",\n",
      "  \"action\": \"67f5148436cfc7bb52af9cde\"\n",
      "}\n",
      "\n",
      "TTL Content:\n",
      "\n",
      "@prefix ex: <http://example.org/> .\n",
      "@prefix prov: <http://www.w3.org/ns/prov#> .\n",
      "@prefix foaf: <http://xmlns.com/foaf/0.1/> .\n",
      "@prefix schema: <http://schema.org/> .\n",
      "\n",
      "ex:dataScientist1 a prov:Person, foaf:Person, schema:Person ;\n",
      "    foaf:firstName \"Pedro\"@es ;\n",
      "    foaf:homepage <http://example.org/pedro> ;\n",
      "    schema:affiliation ex:upm .\n"
     ]
    }
   ],
   "source": [
    "get_log_entry(\"67f5148436cfc7bb52af9cdd\")"
   ]
  },
  {
   "cell_type": "code",
   "execution_count": 50,
   "id": "34987fcd-53bf-411e-8acf-88d950f9aa9b",
   "metadata": {},
   "outputs": [
    {
     "name": "stdout",
     "output_type": "stream",
     "text": [
      "Log entry retrieved successfully:\n",
      "\n",
      "Log metadata:\n",
      "{\n",
      "  \"_id\": \"67f5148436cfc7bb52af9cdf\",\n",
      "  \"uploaded_at\": \"2025-04-08T12:20:20.794000\",\n",
      "  \"origin_ip\": \"172.18.0.1\",\n",
      "  \"action_type\": \"insertion\",\n",
      "  \"action\": \"67f5148436cfc7bb52af9ce0\"\n",
      "}\n",
      "\n",
      "TTL Content:\n",
      "\n",
      "@prefix ex: <http://example.org/> .\n",
      "@prefix schema: <http://schema.org/> .\n",
      "@prefix foaf: <http://xmlns.com/foaf/0.1/> .\n",
      "@prefix prov: <http://www.w3.org/ns/prov#> .\n",
      "\n",
      "ex:upm a schema:Organization, foaf:Organization, prov:Organization ;\n",
      "    schema:url <https://www.upm.es> ;\n",
      "    schema:name \"Universidad Politécnica de Madrid\"@es ;\n",
      "    schema:name \"Technical University of Madrid\"@en .\n"
     ]
    }
   ],
   "source": [
    "get_log_entry(\"67f5148436cfc7bb52af9cdf\")"
   ]
  },
  {
   "cell_type": "markdown",
   "id": "e4c4b728-0f52-4578-b8a5-738825768435",
   "metadata": {},
   "source": [
    "We can now merge the TTL to rebuild the old graph"
   ]
  },
  {
   "cell_type": "markdown",
   "id": "4967081e-4705-4ac9-be35-b49457e8851d",
   "metadata": {},
   "source": [
    "The same way, we can retrieve the info of the deletion log"
   ]
  },
  {
   "cell_type": "code",
   "execution_count": 52,
   "id": "eb2466ea-a41b-4320-b247-92a9c4ebcdaf",
   "metadata": {},
   "outputs": [
    {
     "name": "stdout",
     "output_type": "stream",
     "text": [
      "Log entry retrieved successfully:\n",
      "\n",
      "Log metadata:\n",
      "{\n",
      "  \"_id\": \"67f5148436cfc7bb52af9ce1\",\n",
      "  \"uploaded_at\": \"2025-04-08T12:20:20.806000\",\n",
      "  \"origin_ip\": \"172.18.0.1\",\n",
      "  \"action_type\": \"deletion\",\n",
      "  \"action\": \"67f5148436cfc7bb52af9ce2\"\n",
      "}\n",
      "\n",
      "TTL hash at the moment of the deletion:\n",
      "\n",
      "f7eb8e4d7e255e59ae181e59bfce4970a8b85558edf789c97487736909964f39\n"
     ]
    }
   ],
   "source": [
    "get_log_entry(\"67f5148436cfc7bb52af9ce1\")"
   ]
  },
  {
   "cell_type": "markdown",
   "id": "ca3fca1e-80a8-43e1-a3ea-88c0632ae20b",
   "metadata": {},
   "source": [
    "Thay way, we can rebuild every graph formed between two deletions, ensuring the robustness and reliability of the SEGB"
   ]
  },
  {
   "cell_type": "markdown",
   "id": "71346e6d-6249-4533-b823-80c3e05a65f0",
   "metadata": {},
   "source": [
    "[!WARNING] The deletion logs return the hash of the deleted graph to enhance its integrity when it is rebuilt. We are still working on this functionality."
   ]
  },
  {
   "cell_type": "code",
   "execution_count": null,
   "id": "1278d194-e0ae-4dc5-91a0-fcb126d73047",
   "metadata": {},
   "outputs": [],
   "source": []
  }
 ],
 "metadata": {
  "kernelspec": {
   "display_name": "Python 3 (ipykernel)",
   "language": "python",
   "name": "python3"
  },
  "language_info": {
   "codemirror_mode": {
    "name": "ipython",
    "version": 3
   },
   "file_extension": ".py",
   "mimetype": "text/x-python",
   "name": "python",
   "nbconvert_exporter": "python",
   "pygments_lexer": "ipython3",
   "version": "3.10.16"
  }
 },
 "nbformat": 4,
 "nbformat_minor": 5
}
