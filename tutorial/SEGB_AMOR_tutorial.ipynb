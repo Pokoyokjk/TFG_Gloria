{
 "cells": [
  {
   "cell_type": "markdown",
   "id": "13a518a9",
   "metadata": {},
   "source": [
    "# Semantic Ethical Glass Box (SEGB)"
   ]
  },
  {
   "cell_type": "markdown",
   "id": "99fbe5ef",
   "metadata": {},
   "source": [
    "## 1. Overview \n",
    "\n",
    "The Semantic Ethical Glass Box (SEGB) is global *log* storage, which keeps a semantic registry (graph) of logs generated within different systems. It is comprised of two parts: \n",
    "\n",
    "1. A REST API Flask-based server, whose functions are 1) to add new triples to the global graph and 2) retrieve the global graph; \n",
    "\n",
    "2. A MongoDB-based database, where the global graph is storaged in JSON-LD format\n"
   ]
  },
  {
   "cell_type": "markdown",
   "id": "8bd309b0-edf3-4a32-92c0-224bfe51cc67",
   "metadata": {},
   "source": [
    "## 2. Motivational Scenario"
   ]
  },
  {
   "cell_type": "markdown",
   "id": "bb1a1313-c99a-4ffa-a4e8-e109119d7dd1",
   "metadata": {},
   "source": [
    "Let's suppose we set up a controlled scenario which includes a robot and a human, both being able of interacting with each other. Namely, the robot is a social agent which help humans to manage their emotional state by displaying positive & ethical news. This robot produces internal TTL-formatted *logs* of every piece of code (resulting in a thinking process, decision or action).\n",
    "\n",
    "Let's simulate an example following the SEGB's pipeline.\n",
    "\n",
    "The global graph is intended to include registries from:\n",
    "1. The AI-based models used\n",
    "2. The agents participating within the scenario (e.g., the social robots).\n",
    "3. All the activities occurred from the agent's point-of-view. \n",
    "\n",
    "The expected operation order is humans first adding the models' information to the SEGB, and thenm, the AI-based agents registering themself and posting all the activities' information to the SEGB as they take place. So let's start.\n"
   ]
  },
  {
   "cell_type": "markdown",
   "id": "656b87c8-3bd7-459a-8f3f-923293ceddb3",
   "metadata": {},
   "source": [
    "## 3. Use Case: Interaction Human-Robot"
   ]
  },
  {
   "cell_type": "markdown",
   "id": "50581442",
   "metadata": {},
   "source": [
    "NOTE: Remember to start the SEGB with Docker Compose before the execution of the following tutorial."
   ]
  },
  {
   "cell_type": "markdown",
   "id": "475483a4-c4df-463c-87fe-913fec33e363",
   "metadata": {},
   "source": [
    "### Auxiliary functions\n",
    "\n",
    "We first define some aux functions for interacting with the SEGB (see [Basic Tutorial](https://amor-segb.readthedocs.io/en/latest/4_basic_tutorial.html) for detailed info):\n",
    "\n",
    "- ***log_ttl***: function who receives as *input* the server's URL and the TTL file path and makes a POST to the SEGB.\n",
    "\n",
    "- ***get_graph***: function who receives as *input* the server's URL and the output TTL file path and makes a GET to the SEGB."
   ]
  },
  {
   "cell_type": "code",
   "execution_count": 1,
   "id": "c08b9c17",
   "metadata": {},
   "outputs": [],
   "source": [
    "server = \"http://127.0.0.1:5000\"\n",
    "ttl_filepath = \"./ttl/\""
   ]
  },
  {
   "cell_type": "code",
   "execution_count": 2,
   "id": "960b954d",
   "metadata": {},
   "outputs": [],
   "source": [
    "import requests"
   ]
  },
  {
   "cell_type": "code",
   "execution_count": null,
   "id": "599f5bfd-a080-499f-be8e-15798e070ef5",
   "metadata": {},
   "outputs": [],
   "source": []
  },
  {
   "cell_type": "code",
   "execution_count": 3,
   "id": "834cd8e6",
   "metadata": {},
   "outputs": [],
   "source": [
    "def log_ttl(server: str, input_file_path: str, token:str = \"fake_token\"):\n",
    "    \n",
    "    \"\"\"Log a TTL file to the SEGB.\n",
    "\n",
    "    Reads a Turtle (TTL) file from the specified path and sends its content\n",
    "    to the SEGB's `/log` endpoint via a POST request.\n",
    "\n",
    "    Args:\n",
    "        server (str): The base URL of the SEGB server (e.g., \"http://127.0.0.1:5000\").\n",
    "        input_file_path (str): The path to the TTL file to be logged.\n",
    "    \n",
    "    Example:\n",
    "        >>> log_ttl(\"http://127.0.0.1:5000\", \"/path/to/file/data.ttl\")\n",
    "    \"\"\"\n",
    "    \n",
    "    with open(input_file_path, mode=\"r\", encoding=\"utf-8\") as file:\n",
    "        data = file.read()\n",
    "        print(\"File successfully read from:\", input_file_path)\n",
    "    \n",
    "    headers = {\n",
    "        \"Authorization\": f\"Bearer {token}\",\n",
    "        \"Content-Type\": \"text/turtle\"\n",
    "    }\n",
    "    \n",
    "    response = requests.post(f\"{server}/log\", headers=headers, data=data)\n",
    "    \n",
    "    if response.status_code == 201:\n",
    "        print(f\"POST request of file '{input_file_path}' completed successfully\")\n",
    "    else:\n",
    "        print(f\"Error in POST: {response.status_code} - {response.text}\")"
   ]
  },
  {
   "cell_type": "code",
   "execution_count": 4,
   "id": "cee38f5e",
   "metadata": {},
   "outputs": [],
   "source": [
    "def get_graph(server: str, output_file_path: str, token:str = \"fake_token\"):\n",
    "    \"\"\"Download the complete graph stored in the SEGB.\n",
    "\n",
    "    Sends a GET request to the SEGB's `/get_graph` endpoint to retrieve the\n",
    "    complete graph in Turtle format and saves it to the specified output file.\n",
    "\n",
    "    Args:\n",
    "        server (str): The base URL of the SEGB server (e.g., \"http://127.0.0.1:5000\").\n",
    "        output_file_path (str): The path where the downloaded graph will be saved.\n",
    "    \n",
    "    Example:\n",
    "        >>> get_graph(\"http://127.0.0.1:5000\", \"/path/to/output/graph.ttl\")\n",
    "    \"\"\"\n",
    "    print(f\"Requesting graph to the SEGB from {server}\")\n",
    "\n",
    "    headers = {\n",
    "        \"Authorization\": f\"Bearer {token}\"\n",
    "    }\n",
    "    \n",
    "    response = requests.get(f\"{server}/graph\", headers=headers)\n",
    "  \n",
    "    if response.status_code == 200:\n",
    "        with open(output_file_path, mode=\"w\", encoding=\"utf-8\") as file:\n",
    "            file.write(response.text)\n",
    "        print(f\"File successfully downloaded to: '{output_file_path}'\")\n",
    "\n",
    "    else:\n",
    "        print(f\"Error in GET: {response.status_code} - {response.text}\")"
   ]
  },
  {
   "cell_type": "code",
   "execution_count": null,
   "id": "5cd185ae-3e2a-42df-9fac-464becd59ca2",
   "metadata": {},
   "outputs": [],
   "source": []
  },
  {
   "cell_type": "code",
   "execution_count": 5,
   "id": "de53111e-29d1-48af-9651-86b8ae80c560",
   "metadata": {},
   "outputs": [],
   "source": [
    "import rdflib\n",
    "from pyvis.network import Network\n",
    "from IPython.display import IFrame\n",
    "import os\n",
    "\n",
    "graph_id_counter = 0\n",
    "\n",
    "def display_graph(filepath):\n",
    "    global graph_id_counter\n",
    "\n",
    "    get_graph(server, filepath)\n",
    "\n",
    "    print (f\"Displaying graph from file '{filepath}'\")\n",
    "\n",
    "    output_dir = \"html\"\n",
    "    os.makedirs(output_dir, exist_ok=True)\n",
    "\n",
    "    g = rdflib.Graph()\n",
    "    g.parse(filepath, format=\"ttl\") \n",
    "    \n",
    "    net = Network(height=\"500px\", width=\"100%\", notebook=True, directed=True, cdn_resources='in_line')\n",
    "    \n",
    "    for s, p, o in g:\n",
    "        net.add_node(s, label=str(s), title=str(s)) \n",
    "        net.add_node(o, label=str(o), title=str(o))  \n",
    "        net.add_edge(s, o, title=str(p))\n",
    "\n",
    "    net.force_atlas_2based()\n",
    "\n",
    "    filename = f\"segb_graph_{graph_id_counter}.html\"\n",
    "    filepath_out = os.path.join(output_dir, filename)\n",
    "    graph_id_counter += 1\n",
    "\n",
    "    print(\"\\n\\n\")\n",
    "    net.show(filepath_out)\n",
    "\n",
    "    return IFrame(filepath_out, width=900, height=500)\n"
   ]
  },
  {
   "cell_type": "markdown",
   "id": "ccddb948",
   "metadata": {},
   "source": [
    "### Loading info to the SEGB\n",
    "\n",
    "#### Data Scientist \n",
    "\n",
    "1. The Data Scientist/Engineer who set up the scenario register on the SEGB the information of all the agents participating. He/She writes a TTL file describing themself, denoted as *data_scientist.ttl* as part of the AI models development. This TTL is then sent to the SEGB."
   ]
  },
  {
   "cell_type": "code",
   "execution_count": 6,
   "id": "eb32dc4e-056f-4570-b2d4-54418b96ba92",
   "metadata": {},
   "outputs": [
    {
     "name": "stdout",
     "output_type": "stream",
     "text": [
      "@prefix ex: <http://example.org#> .\n",
      "@prefix foaf: <http://xmlns.com/foaf/0.1/> .\n",
      "@prefix prov: <http://www.w3.org/ns/prov#> .\n",
      "@prefix schema: <http://schema.org/> .\n",
      "\n",
      "# Agents\n",
      "ex:dataScientist1 a prov:Person, foaf:Person, schema:Person ;\n",
      "    foaf:firstName \"Pedro\"@es ;\n",
      "    foaf:homepage <http://example.org/pedro> ;\n",
      "    schema:affiliation ex:upm .\n",
      "\n",
      "ex:upm a schema:Organization, foaf:Organization, prov:Organization ;\n",
      "    schema:url <https://www.upm.es> ;\n",
      "    schema:name \"Universidad Politécnica de Madrid\"@es ;\n",
      "    schema:name \"Technical University of Madrid\"@en .\n",
      "\n"
     ]
    }
   ],
   "source": [
    "data_scientist_ttl = ttl_filepath + \"data_scientist.ttl\"\n",
    "with open(data_scientist_ttl, mode=\"r\") as file:\n",
    "     ttl = file.read()\n",
    "     print(ttl)"
   ]
  },
  {
   "cell_type": "code",
   "execution_count": 7,
   "id": "6f96ea77-8eae-4b03-ae2f-b93bd6b8ecf8",
   "metadata": {},
   "outputs": [
    {
     "name": "stdout",
     "output_type": "stream",
     "text": [
      "File successfully read from: ./ttl/data_scientist.ttl\n",
      "POST request of file './ttl/data_scientist.ttl' completed successfully\n"
     ]
    }
   ],
   "source": [
    "log_ttl(server, data_scientist_ttl)"
   ]
  },
  {
   "cell_type": "code",
   "execution_count": 8,
   "id": "b8611d44-2e86-406b-9ac4-13fae1947084",
   "metadata": {},
   "outputs": [
    {
     "name": "stdout",
     "output_type": "stream",
     "text": [
      "Requesting graph to the SEGB from http://127.0.0.1:5000\n",
      "File successfully downloaded to: 'graph.ttl'\n",
      "Displaying graph from file 'graph.ttl'\n",
      "\n",
      "\n",
      "\n",
      "html/segb_graph_0.html\n"
     ]
    },
    {
     "data": {
      "text/html": [
       "\n",
       "        <iframe\n",
       "            width=\"900\"\n",
       "            height=\"500\"\n",
       "            src=\"html/segb_graph_0.html\"\n",
       "            frameborder=\"0\"\n",
       "            allowfullscreen\n",
       "            \n",
       "        ></iframe>\n",
       "        "
      ],
      "text/plain": [
       "<IPython.lib.display.IFrame at 0x709fa983d9f0>"
      ]
     },
     "execution_count": 8,
     "metadata": {},
     "output_type": "execute_result"
    }
   ],
   "source": [
    "display_graph(\"graph.ttl\")"
   ]
  },
  {
   "cell_type": "markdown",
   "id": "29253e21-ff35-4f74-a729-c1fbb030e90e",
   "metadata": {},
   "source": [
    "#### Models"
   ]
  },
  {
   "cell_type": "markdown",
   "id": "63e26a72-ba0e-4877-977d-a951d450135e",
   "metadata": {},
   "source": [
    "2. Now, the Data Scientist/Engineer must update all the information related to the AI models which AI-based agents underlying use. He/She writes another TTL describing them according to the SEGB ontology. This file is named as *model_info.ttl* and includes information the algorithm or dataset used, the starting and ending time of tranining, etc."
   ]
  },
  {
   "cell_type": "code",
   "execution_count": 9,
   "id": "281bf15b-d27e-4969-a827-fb9f3e8ec3f3",
   "metadata": {},
   "outputs": [
    {
     "name": "stdout",
     "output_type": "stream",
     "text": [
      "@prefix ex: <http://example.org#> .\n",
      "@prefix mls: <http://www.w3.org/ns/mls#> .\n",
      "@prefix prov: <http://www.w3.org/ns/prov#> .\n",
      "@prefix rdfs: <http://www.w3.org/2000/01/rdf-schema#> .\n",
      "@prefix segb: <http://www.gsi.upm.es/ontologies/segb/ns#> .\n",
      "@prefix xsd: <http://www.w3.org/2001/XMLSchema#> .\n",
      "\n",
      "ex:emotionDetectionModel1 a mls:Model, prov:Entity, segb:Result ;\n",
      "    mls:hasQuality ex:compatibleEmotionModel ;\n",
      "    prov:wasGeneratedBy ex:run1 .\n",
      "\n",
      "ex:compatibleEmotionModel a mls:ModelCharacteristic ;\n",
      "    mls:hasValue \"Big 6 Emotion Model\"@en .\n",
      "\n",
      "ex:run1 a mls:Run, segb:LoggedActivity ;\n",
      "    mls:realizes ex:cnn ;\n",
      "    mls:hasInput ex:dataset1 ;\n",
      "    mls:executes ex:cnn_tensorflow293 ;\n",
      "    mls:hasInput ex:num_epochs ;\n",
      "    mls:hasOutput ex:emotionDetectionModel1 ;\n",
      "    mls:hasOutput ex:emotionDetectionModel1Accuracy ;\n",
      "    prov:startedAtTime \"2023-09-15T10:17:25\"^^xsd:dateTime ;\n",
      "    prov:endedAtTime \"2023-09-15T11:27:24\"^^xsd:dateTime ;\n",
      "    segb:wasPerformedBy ex:dataScientist1 ;\n",
      "    segb:producedResult ex:emotionDetectionModel1 .\n",
      "\n",
      "ex:cnn a mls:Algorithm ;\n",
      "    rdfs:label \"Convolutional Neural Network\"@en.\n",
      "\n",
      "ex:cnn_tensorflow293 a mls:Implementation ;\n",
      "    mls:hasHyperParameter ex:epochs ;\n",
      "    mls:implements ex:cnn .\n",
      "\n",
      "ex:tensorflow293 a mls:Software ;\n",
      "    rdfs:label \"TensorFlow 2.9.3\"@en ;\n",
      "    mls:hasPart ex:cnn_tensorflow293 .\n",
      "\n",
      "ex:epochs a mls:HyperParameter ;\n",
      "    rdfs:label \"epochs\"@en ;\n",
      "    rdfs:description \"Number of epochs.\"@en .\n",
      "\n",
      "ex:num_epochs a mls:HyperParameterSetting ;\n",
      "    mls:specifiedBy ex:epochs ;\n",
      "    mls:hasValue \"50\"^^xsd:long .\n",
      "\n",
      "ex:emotionDetectionModel1Accuracy a mls:ModelEvaluation ;\n",
      "    mls:specifiedBy ex:accuracy ;\n",
      "    mls:hasValue \"0.86\"^^xsd:float .\n",
      "\n",
      "ex:accuracy a mls:EvaluationMeasure ;\n",
      "    rdfs:label \"Accuracy\"@en.\n",
      "\n",
      "ex:dataset1 a mls:Dataset ;\n",
      "    rdfs:label \"Dataset for emotion recognition.\"@en ;\n",
      "    mls:hasQuality ex:numberOfFeatures ;\n",
      "    mls:hasQuality ex:numberOfInstantes .\n",
      "\n",
      "ex:numberOfFeatures_dataset1 a mls:DatasetCharacteristic ;\n",
      "    rdfs:label \"Number of features for Dataset 1\"@en ;\n",
      "    mls:hasValue \"15\"^^xsd:long .\n",
      "\n",
      "ex:numberOfInstantes a mls:DatasetCharacteristic ;\n",
      "    rdfs:label \"Number of instances for Dataset 1\"@en ;\n",
      "    mls:hasValue \"1600\"^^xsd:long .\n"
     ]
    }
   ],
   "source": [
    "models_info_ttl = ttl_filepath + \"models_info.ttl\"\n",
    "with open(models_info_ttl, mode=\"r\") as file:\n",
    "     ttl = file.read()\n",
    "     print(ttl)"
   ]
  },
  {
   "cell_type": "code",
   "execution_count": 10,
   "id": "70e810aa-e584-4622-9367-98fad3b7c9e0",
   "metadata": {},
   "outputs": [
    {
     "name": "stdout",
     "output_type": "stream",
     "text": [
      "File successfully read from: ./ttl/models_info.ttl\n",
      "POST request of file './ttl/models_info.ttl' completed successfully\n"
     ]
    }
   ],
   "source": [
    "log_ttl(server, models_info_ttl)"
   ]
  },
  {
   "cell_type": "code",
   "execution_count": 11,
   "id": "058e8d69-9596-43c1-90c7-76441dae7d4b",
   "metadata": {},
   "outputs": [
    {
     "name": "stdout",
     "output_type": "stream",
     "text": [
      "Requesting graph to the SEGB from http://127.0.0.1:5000\n",
      "File successfully downloaded to: 'graph.ttl'\n",
      "Displaying graph from file 'graph.ttl'\n",
      "\n",
      "\n",
      "\n",
      "html/segb_graph_1.html\n"
     ]
    },
    {
     "data": {
      "text/html": [
       "\n",
       "        <iframe\n",
       "            width=\"900\"\n",
       "            height=\"500\"\n",
       "            src=\"html/segb_graph_1.html\"\n",
       "            frameborder=\"0\"\n",
       "            allowfullscreen\n",
       "            \n",
       "        ></iframe>\n",
       "        "
      ],
      "text/plain": [
       "<IPython.lib.display.IFrame at 0x709fa96aea10>"
      ]
     },
     "execution_count": 11,
     "metadata": {},
     "output_type": "execute_result"
    }
   ],
   "source": [
    "display_graph(\"graph.ttl\")"
   ]
  },
  {
   "cell_type": "markdown",
   "id": "27ec62fe-9632-4910-be0e-cec9c1ab494b",
   "metadata": {},
   "source": [
    "#### Agents and Scenario Activities & Interactions "
   ]
  },
  {
   "cell_type": "markdown",
   "id": "5ff6584d",
   "metadata": {},
   "source": [
    "3. Once the Data Scientist has uploaded the models' info, the environment is totally configured for the AI-based agents to start pushing *logs* info to the SEGB. Let's start with the motivational scenario previously described. Maria, a person participating in the scenario, want to speak to the robot and locates in front of it. In that moment, the robot detects her and creates a TTL *log* which is sent to the SEGB."
   ]
  },
  {
   "cell_type": "code",
   "execution_count": 12,
   "id": "f43c28ba-9c60-44f2-a298-ab42ae6fe353",
   "metadata": {},
   "outputs": [
    {
     "name": "stdout",
     "output_type": "stream",
     "text": [
      "@prefix ex: <http://example.org#> .\n",
      "@prefix foaf: <http://xmlns.com/foaf/0.1/> .\n",
      "@prefix oro: <http://kb.openrobots.org#> .\n",
      "@prefix prov: <http://www.w3.org/ns/prov#> .\n",
      "@prefix schema: <http://schema.org/> .\n",
      "\n",
      "ex:maria a prov:Person, foaf:Person, schema:Person, oro:Human ;\n",
      "    foaf:firstName \"María\"@es .\n",
      "\n",
      "ex:ari1 a prov:SoftwareAgent, oro:Robot ;\n",
      "    oro:hasName \"ARI\"@es ;\n",
      "    oro:belongsTo ex:maria ;\n",
      "    foaf:knows ex:maria .\n",
      "\n"
     ]
    }
   ],
   "source": [
    "person_detection_ttl = ttl_filepath + \"person_detection.ttl\"\n",
    "with open(person_detection_ttl, mode=\"r\") as file:\n",
    "     ttl = file.read()\n",
    "     print(ttl)"
   ]
  },
  {
   "cell_type": "code",
   "execution_count": 13,
   "id": "92d983c9-d9ac-42dd-84c2-a90925224208",
   "metadata": {},
   "outputs": [
    {
     "name": "stdout",
     "output_type": "stream",
     "text": [
      "File successfully read from: ./ttl/person_detection.ttl\n",
      "POST request of file './ttl/person_detection.ttl' completed successfully\n"
     ]
    }
   ],
   "source": [
    "log_ttl(server, person_detection_ttl)"
   ]
  },
  {
   "cell_type": "markdown",
   "id": "e47b1edf-3ee8-448a-97df-d854be6292ce",
   "metadata": {},
   "source": [
    "The information of the experiment executing in the scenario is also included:"
   ]
  },
  {
   "cell_type": "code",
   "execution_count": 14,
   "id": "d158b4a5-6325-443f-aeb6-c3d8b61275c0",
   "metadata": {},
   "outputs": [
    {
     "name": "stdout",
     "output_type": "stream",
     "text": [
      "@prefix amor-exp: <http://www.gsi.upm.es/ontologies/amor/experiments/ns#> .\n",
      "@prefix ex: <http://example.org#> .\n",
      "@prefix prov: <http://www.w3.org/ns/prov#> .\n",
      "@prefix rdfs: <http://www.w3.org/2000/01/rdf-schema#> .\n",
      "@prefix xsd: <http://www.w3.org/2001/XMLSchema#> .\n",
      "\n",
      "ex:experiment1 a amor-exp:Experiment ;\n",
      "    rdfs:label \"Experiment 1\"@en ;\n",
      "    amor-exp:hasExecutor ex:ari1 ;\n",
      "    amor-exp:hasExperimentationSubject ex:maria ;\n",
      "    prov:startedAtTime \"2024-11-16T12:27:10\"^^xsd:dateTime .\n"
     ]
    }
   ],
   "source": [
    "experiment_ttl = ttl_filepath + \"experiment.ttl\"\n",
    "with open(experiment_ttl, mode=\"r\") as file:\n",
    "     ttl = file.read()\n",
    "     print(ttl)"
   ]
  },
  {
   "cell_type": "code",
   "execution_count": 15,
   "id": "fc604e72-cafb-4f76-86d1-9d2f4f6885d6",
   "metadata": {},
   "outputs": [
    {
     "name": "stdout",
     "output_type": "stream",
     "text": [
      "File successfully read from: ./ttl/experiment.ttl\n",
      "POST request of file './ttl/experiment.ttl' completed successfully\n"
     ]
    }
   ],
   "source": [
    "log_ttl(server, experiment_ttl)"
   ]
  },
  {
   "cell_type": "code",
   "execution_count": 16,
   "id": "df4ff8f2-b626-4dbb-b3a5-732248caecc4",
   "metadata": {},
   "outputs": [
    {
     "name": "stdout",
     "output_type": "stream",
     "text": [
      "Requesting graph to the SEGB from http://127.0.0.1:5000\n",
      "File successfully downloaded to: 'graph.ttl'\n",
      "Displaying graph from file 'graph.ttl'\n",
      "\n",
      "\n",
      "\n",
      "html/segb_graph_2.html\n"
     ]
    },
    {
     "data": {
      "text/html": [
       "\n",
       "        <iframe\n",
       "            width=\"900\"\n",
       "            height=\"500\"\n",
       "            src=\"html/segb_graph_2.html\"\n",
       "            frameborder=\"0\"\n",
       "            allowfullscreen\n",
       "            \n",
       "        ></iframe>\n",
       "        "
      ],
      "text/plain": [
       "<IPython.lib.display.IFrame at 0x709fa96cd4b0>"
      ]
     },
     "execution_count": 16,
     "metadata": {},
     "output_type": "execute_result"
    }
   ],
   "source": [
    "display_graph(\"graph.ttl\")"
   ]
  },
  {
   "cell_type": "markdown",
   "id": "b6fc3478-9dde-47a0-a9df-05f9f14015d9",
   "metadata": {},
   "source": [
    "4. Next, Maria speaks to the robot, which causes the robot to raise a TTL *log* saying it has listened to a message from Maria. Again, this log is sent to the SEGB:"
   ]
  },
  {
   "cell_type": "code",
   "execution_count": 17,
   "id": "38f9e3a2-5950-46b7-a598-e8a122162628",
   "metadata": {},
   "outputs": [
    {
     "name": "stdout",
     "output_type": "stream",
     "text": [
      "@prefix amor-exp: <http://www.gsi.upm.es/ontologies/amor/experiments/ns#> .\n",
      "@prefix ex: <http://example.org#> .\n",
      "@prefix oro: <http://kb.openrobots.org#> .\n",
      "@prefix prov: <http://www.w3.org/ns/prov#> .\n",
      "@prefix segb: <http://www.gsi.upm.es/ontologies/segb/ns#> .\n",
      "@prefix xsd: <http://www.w3.org/2001/XMLSchema#> .\n",
      "\n",
      "ex:listeningEvent1 a oro:ListeningEvent, segb:LoggedActivity ;\n",
      "    amor-exp:isRelatedWithExperiment ex:experiment1 ;\n",
      "    oro:hasSpeaker ex:maria ;\n",
      "    oro:hasListener ex:ari1 ;\n",
      "    oro:hasMessage ex:msg1 ;\n",
      "    segb:usedMLModel ex:asrModel1 ;\n",
      "    prov:startedAtTime \"2024-11-16T12:27:12\"^^xsd:dateTime ;\n",
      "    prov:endedAtTime \"2024-11-16T12:27:15\"^^xsd:dateTime ;\n",
      "    segb:wasPerformedBy ex:ari1 .\n",
      "\n",
      "ex:msg1 a oro:InitialMessage, oro:Message, prov:Entity ;\n",
      "    oro:hasText \"Good morning, Ari. Could you show me news about the awful climate change the planet is undergoing?.\"@en ;\n",
      "    prov:wasGeneratedBy ex:listeningEvent1 .\n",
      "\n"
     ]
    }
   ],
   "source": [
    "listened_to_person_ttl = ttl_filepath + \"listened_to_person.ttl\"\n",
    "with open(listened_to_person_ttl, mode=\"r\") as file:\n",
    "     ttl = file.read()\n",
    "     print(ttl)"
   ]
  },
  {
   "cell_type": "code",
   "execution_count": 18,
   "id": "9c295527-f0cd-4874-a2de-85294346ea1a",
   "metadata": {},
   "outputs": [
    {
     "name": "stdout",
     "output_type": "stream",
     "text": [
      "File successfully read from: ./ttl/listened_to_person.ttl\n",
      "POST request of file './ttl/listened_to_person.ttl' completed successfully\n"
     ]
    }
   ],
   "source": [
    "log_ttl(server, listened_to_person_ttl)"
   ]
  },
  {
   "cell_type": "code",
   "execution_count": 19,
   "id": "4360e132-eaed-4f11-b45d-be2c5681a831",
   "metadata": {},
   "outputs": [
    {
     "name": "stdout",
     "output_type": "stream",
     "text": [
      "Requesting graph to the SEGB from http://127.0.0.1:5000\n",
      "File successfully downloaded to: 'graph.ttl'\n",
      "Displaying graph from file 'graph.ttl'\n",
      "\n",
      "\n",
      "\n",
      "html/segb_graph_3.html\n"
     ]
    },
    {
     "data": {
      "text/html": [
       "\n",
       "        <iframe\n",
       "            width=\"900\"\n",
       "            height=\"500\"\n",
       "            src=\"html/segb_graph_3.html\"\n",
       "            frameborder=\"0\"\n",
       "            allowfullscreen\n",
       "            \n",
       "        ></iframe>\n",
       "        "
      ],
      "text/plain": [
       "<IPython.lib.display.IFrame at 0x709fa9703e50>"
      ]
     },
     "execution_count": 19,
     "metadata": {},
     "output_type": "execute_result"
    }
   ],
   "source": [
    "display_graph(\"graph.ttl\")"
   ]
  },
  {
   "cell_type": "markdown",
   "id": "06dca5e8-abbc-487b-a34c-fb2a1fb566bb",
   "metadata": {},
   "source": [
    "5. After listening to Maria, the robot processes the message, through which Maria asks it to show some news about the **awful** climate change. This raises a \"decision making\" process (which uses the ML model denoted as *decisionMakingModel1*) inside the robot, which is registered in the SEGB as shown:"
   ]
  },
  {
   "cell_type": "code",
   "execution_count": 20,
   "id": "1d469e0f-d85a-4f87-ae43-dfa7237eda24",
   "metadata": {},
   "outputs": [
    {
     "name": "stdout",
     "output_type": "stream",
     "text": [
      "@prefix amor-exp: <http://www.gsi.upm.es/ontologies/amor/experiments/ns#> .\n",
      "@prefix ex: <http://example.org#> .\n",
      "@prefix oro: <http://kb.openrobots.org#> .\n",
      "@prefix prov: <http://www.w3.org/ns/prov#> .\n",
      "@prefix segb: <http://www.gsi.upm.es/ontologies/segb/ns#> .\n",
      "@prefix xsd: <http://www.w3.org/2001/XMLSchema#> .\n",
      "\n",
      "ex:decisionMaking1 a oro:DecisionMakingAction, segb:LoggedActivity ;\n",
      "    amor-exp:isRelatedWithExperiment ex:experiment1 ;\n",
      "    segb:triggeredByActivity ex:listeningEvent1 ;\n",
      "    segb:usedMLModel ex:decisionMakingModel1 ;\n",
      "    prov:startedAtTime \"2024-11-16T12:27:15\"^^xsd:dateTime ;\n",
      "    segb:wasPerformedBy ex:ari1 .\n",
      "\n"
     ]
    }
   ],
   "source": [
    "decision_making_ttl = ttl_filepath + \"decision_making.ttl\"\n",
    "with open(decision_making_ttl, mode=\"r\") as file:\n",
    "     ttl = file.read()\n",
    "     print(ttl)"
   ]
  },
  {
   "cell_type": "code",
   "execution_count": 21,
   "id": "91a8740d-0699-4be4-a6df-9dcd2c7e11b0",
   "metadata": {},
   "outputs": [
    {
     "name": "stdout",
     "output_type": "stream",
     "text": [
      "File successfully read from: ./ttl/decision_making.ttl\n",
      "POST request of file './ttl/decision_making.ttl' completed successfully\n"
     ]
    }
   ],
   "source": [
    "log_ttl(server, decision_making_ttl)"
   ]
  },
  {
   "cell_type": "code",
   "execution_count": 22,
   "id": "9411e368-e302-4cc0-8ae1-7e05346c6fb3",
   "metadata": {},
   "outputs": [
    {
     "name": "stdout",
     "output_type": "stream",
     "text": [
      "Requesting graph to the SEGB from http://127.0.0.1:5000\n",
      "File successfully downloaded to: 'graph.ttl'\n",
      "Displaying graph from file 'graph.ttl'\n",
      "\n",
      "\n",
      "\n",
      "html/segb_graph_4.html\n"
     ]
    },
    {
     "data": {
      "text/html": [
       "\n",
       "        <iframe\n",
       "            width=\"900\"\n",
       "            height=\"500\"\n",
       "            src=\"html/segb_graph_4.html\"\n",
       "            frameborder=\"0\"\n",
       "            allowfullscreen\n",
       "            \n",
       "        ></iframe>\n",
       "        "
      ],
      "text/plain": [
       "<IPython.lib.display.IFrame at 0x709fa96f22f0>"
      ]
     },
     "execution_count": 22,
     "metadata": {},
     "output_type": "execute_result"
    }
   ],
   "source": [
    "display_graph(\"graph.ttl\")"
   ]
  },
  {
   "cell_type": "markdown",
   "id": "a2adfc06-b931-4e98-859f-389e3bddfddc",
   "metadata": {},
   "source": [
    "6. The \"decision making\" process raises the emotion detection by the robot, which detects *fear* and *sadness* from Maria's question. The TTL which logs the emotion detection is sent to the SEGB."
   ]
  },
  {
   "cell_type": "code",
   "execution_count": 23,
   "id": "029e2303-573b-43c1-9718-9cff06ea1f0c",
   "metadata": {},
   "outputs": [
    {
     "name": "stdout",
     "output_type": "stream",
     "text": [
      "@prefix amor-exp: <http://www.gsi.upm.es/ontologies/amor/experiments/ns#> .\n",
      "@prefix emoml: <http://www.gsi.upm.es/ontologies/onyx/vocabularies/emotionml/ns#> .\n",
      "@prefix ex: <http://example.org#> .\n",
      "@prefix onyx: <http://www.gsi.upm.es/ontologies/onyx/ns#> .\n",
      "@prefix oro: <http://kb.openrobots.org#> .\n",
      "@prefix prov: <http://www.w3.org/ns/prov#> .\n",
      "@prefix segb: <http://www.gsi.upm.es/ontologies/segb/ns#> .\n",
      "@prefix xsd: <http://www.w3.org/2001/XMLSchema#> .\n",
      "\n",
      "ex:emotionDetection1 a oro:EmotionRecognitionEvent, onyx:EmotionAnalysis, segb:LoggedActivity ;\n",
      "    amor-exp:isRelatedWithExperiment ex:experiment1 ;\n",
      "    prov:used ex:msg1 ;\n",
      "    segb:usedMLModel ex:emotionDetectionModel1 ;\n",
      "    onyx:usesEmotionModel emoml:big6 ;\n",
      "    segb:triggeredByActivity ex:decisionMaking1 ;\n",
      "    prov:startedAtTime \"2024-11-16T12:27:16\"^^xsd:dateTime ;\n",
      "    prov:endedAtTime \"2024-11-16T12:27:18\"^^xsd:dateTime ;\n",
      "    segb:wasPerformedBy ex:ari1 ;\n",
      "    prov:generated ex:emotionset1 .\n",
      "\n",
      "ex:emotionset1 a onyx:EmotionSet ;\n",
      "    onyx:hasEmotion ex:emotion1 ;\n",
      "    onyx:hasEmotion ex:emotion2 .\n",
      "\n",
      "ex:emotion1 a onyx:Emotion ;\n",
      "    onyx:hasEmotionCategory emoml:big6_fear ;\n",
      "    onyx:hasEmotionIntensity \"0.3\"^^xsd:float ;\n",
      "    onyx:algorithmConfidence \"0.86\"^^xsd:float .\n",
      "\n",
      "ex:emotion2 a onyx:Emotion ;\n",
      "    onyx:hasEmotionCategory emoml:big6_sadness ;\n",
      "    onyx:hasEmotionIntensity \"0.4\"^^xsd:float ;\n",
      "    onyx:algorithmConfidence \"0.93\"^^xsd:float .\n",
      "\n"
     ]
    }
   ],
   "source": [
    "emotion_detection_ttl = ttl_filepath + \"emotion_detection.ttl\"\n",
    "with open(emotion_detection_ttl, mode=\"r\") as file:\n",
    "     ttl = file.read()\n",
    "     print(ttl)"
   ]
  },
  {
   "cell_type": "code",
   "execution_count": 24,
   "id": "26fe1d28-44b1-4cb7-b085-7938e794a7e7",
   "metadata": {},
   "outputs": [
    {
     "name": "stdout",
     "output_type": "stream",
     "text": [
      "File successfully read from: ./ttl/emotion_detection.ttl\n",
      "POST request of file './ttl/emotion_detection.ttl' completed successfully\n"
     ]
    }
   ],
   "source": [
    "log_ttl(server, emotion_detection_ttl)"
   ]
  },
  {
   "cell_type": "code",
   "execution_count": 25,
   "id": "1668b084-8b4e-416c-b872-a8eb2b9738fc",
   "metadata": {},
   "outputs": [
    {
     "name": "stdout",
     "output_type": "stream",
     "text": [
      "Requesting graph to the SEGB from http://127.0.0.1:5000\n",
      "File successfully downloaded to: 'graph.ttl'\n",
      "Displaying graph from file 'graph.ttl'\n",
      "\n",
      "\n",
      "\n",
      "html/segb_graph_5.html\n"
     ]
    },
    {
     "data": {
      "text/html": [
       "\n",
       "        <iframe\n",
       "            width=\"900\"\n",
       "            height=\"500\"\n",
       "            src=\"html/segb_graph_5.html\"\n",
       "            frameborder=\"0\"\n",
       "            allowfullscreen\n",
       "            \n",
       "        ></iframe>\n",
       "        "
      ],
      "text/plain": [
       "<IPython.lib.display.IFrame at 0x709fa97a75b0>"
      ]
     },
     "execution_count": 25,
     "metadata": {},
     "output_type": "execute_result"
    }
   ],
   "source": [
    "display_graph(\"graph.ttl\")"
   ]
  },
  {
   "cell_type": "markdown",
   "id": "683de553-c09e-4ea4-bdd6-0b0f1798b6c6",
   "metadata": {},
   "source": [
    "5. Once ther robot knows Maria's emotion as part of the \"decision making\" process, the robot updates this \"decision making\" process with the next action he has to do: express an emotion. The robot has decided to express *sadness*. He will sent to the SEGB a TTL which updates the triple of the \"decision making\" adding the emotion expression activity as well as describing this emotion expression."
   ]
  },
  {
   "cell_type": "code",
   "execution_count": 26,
   "id": "8aac630f-3f7e-4adb-9483-3804138afb1c",
   "metadata": {},
   "outputs": [
    {
     "name": "stdout",
     "output_type": "stream",
     "text": [
      "@prefix amor-exp: <http://www.gsi.upm.es/ontologies/amor/experiments/ns#> .\n",
      "@prefix emoml: <http://www.gsi.upm.es/ontologies/onyx/vocabularies/emotionml/ns#> .\n",
      "@prefix ex: <http://example.org#> .\n",
      "@prefix oro: <http://kb.openrobots.org#> .\n",
      "@prefix prov: <http://www.w3.org/ns/prov#> .\n",
      "@prefix segb: <http://www.gsi.upm.es/ontologies/segb/ns#> .\n",
      "@prefix xsd: <http://www.w3.org/2001/XMLSchema#> .\n",
      "ex:emotionExpression1 a oro:EmotionExpressionAction, segb:LoggedActivity ;\n",
      "    amor-exp:isRelatedWithExperiment ex:experiment1 ;\n",
      "    segb:triggeredByActivity ex:decisionMaking1 ;\n",
      "    segb:triggeredByActivity ex:emotionDetection1 ;\n",
      "    segb:triggeredByActivity ex:listeningEvent1 ;\n",
      "    prov:used ex:emotionset1 ;\n",
      "    prov:used ex:msg1 ;\n",
      "    oro:expressedEmotion emoml:big6_sadness ;\n",
      "    prov:startedAtTime \"2024-11-16T12:27:18\"^^xsd:dateTime ;\n",
      "    prov:endedAtTime \"2024-11-16T12:27:19\"^^xsd:dateTime ;\n",
      "    segb:wasPerformedBy ex:ari1 .\n",
      "\n",
      "ex:decisionMaking1 segb:producedActivityResult ex:emotionExpression1 .\n",
      "\n"
     ]
    }
   ],
   "source": [
    "emotion_expression_ttl = ttl_filepath + \"emotion_expression.ttl\"\n",
    "with open(emotion_expression_ttl, mode=\"r\") as file:\n",
    "     ttl = file.read()\n",
    "     print(ttl)"
   ]
  },
  {
   "cell_type": "code",
   "execution_count": 27,
   "id": "97ed0a2a-aaa1-4d62-a1d4-59020a263fc6",
   "metadata": {},
   "outputs": [
    {
     "name": "stdout",
     "output_type": "stream",
     "text": [
      "File successfully read from: ./ttl/emotion_expression.ttl\n",
      "POST request of file './ttl/emotion_expression.ttl' completed successfully\n"
     ]
    }
   ],
   "source": [
    "log_ttl(server, emotion_expression_ttl)"
   ]
  },
  {
   "cell_type": "code",
   "execution_count": 28,
   "id": "487261f2-b462-4d6d-bb19-e4bf77a53d71",
   "metadata": {},
   "outputs": [
    {
     "name": "stdout",
     "output_type": "stream",
     "text": [
      "Requesting graph to the SEGB from http://127.0.0.1:5000\n",
      "File successfully downloaded to: 'graph.ttl'\n",
      "Displaying graph from file 'graph.ttl'\n",
      "\n",
      "\n",
      "\n",
      "html/segb_graph_6.html\n"
     ]
    },
    {
     "data": {
      "text/html": [
       "\n",
       "        <iframe\n",
       "            width=\"900\"\n",
       "            height=\"500\"\n",
       "            src=\"html/segb_graph_6.html\"\n",
       "            frameborder=\"0\"\n",
       "            allowfullscreen\n",
       "            \n",
       "        ></iframe>\n",
       "        "
      ],
      "text/plain": [
       "<IPython.lib.display.IFrame at 0x709fa9889d80>"
      ]
     },
     "execution_count": 28,
     "metadata": {},
     "output_type": "execute_result"
    }
   ],
   "source": [
    "display_graph(\"graph.ttl\")"
   ]
  },
  {
   "cell_type": "markdown",
   "id": "3238322b-3711-441a-a955-2ce6e00415ed",
   "metadata": {},
   "source": [
    "6. Now the robot retrieves some news from an information source."
   ]
  },
  {
   "cell_type": "code",
   "execution_count": 29,
   "id": "d4c015f2-8594-44f1-be81-1b3a46634df5",
   "metadata": {},
   "outputs": [
    {
     "name": "stdout",
     "output_type": "stream",
     "text": [
      "@prefix amor-exp: <http://www.gsi.upm.es/ontologies/amor/experiments/ns#> .\n",
      "@prefix ex: <http://example.org#> .\n",
      "@prefix oro: <http://kb.openrobots.org#> .\n",
      "@prefix prov: <http://www.w3.org/ns/prov#> .\n",
      "@prefix schema: <http://schema.org/> .\n",
      "@prefix segb: <http://www.gsi.upm.es/ontologies/segb/ns#> .\n",
      "@prefix xsd: <http://www.w3.org/2001/XMLSchema#> .\n",
      "ex:informationRetrieval1 a oro:InformationRetrievalAction, segb:LoggedActivity ;\n",
      "    amor-exp:isRelatedWithExperiment ex:experiment1 ;\n",
      "    oro:query \"climate change\"@en ;\n",
      "    oro:endPoint \"http://example.org/news_search/api\" ;\n",
      "    segb:producedEntityResult ex:news1, ex:news2, ex:news3 ;\n",
      "    segb:triggeredByActivity ex:decisionMaking1 ;\n",
      "    prov:startedAtTime \"2024-11-16T12:27:16\"^^xsd:dateTime ;\n",
      "    prov:endedAtTime \"2024-11-16T12:27:24\"^^xsd:dateTime ;\n",
      "    segb:wasPerformedBy ex:ari1 .\n",
      "\n",
      "ex:news1 a schema:NewsArticle, prov:Entity ;\n",
      "  schema:articleBody \"Scientists warn that the effects of climate change are accelerating, with more frequent and severe weather events.\"^^xsd:string ;\n",
      "  schema:datePublished \"2023-04-22T12:00:00+00:00\"^^schema:Date ;\n",
      "  schema:headline \"Climate Change Effects Accelerating, Scientists Warn\"^^xsd:string ;\n",
      "  schema:image <http://example.org/images/climate_change.jpg> ;\n",
      "  schema:mainEntityOfPage <http://www.example.org/news/climate-change-effects> ;\n",
      "  schema:publisher ex:publisher1 ;\n",
      "  schema:url <http://www.example.org/news/climate-change-effects> .\n",
      "\n",
      "ex:news2 a schema:NewsArticle, prov:Entity ;\n",
      "  schema:articleBody \"A new international agreement aims to reduce carbon emissions by 50% by 2030.\"^^xsd:string ;\n",
      "  schema:datePublished \"2023-05-15T09:30:00+00:00\"^^schema:Date ;\n",
      "  schema:headline \"International Agreement to Cut Carbon Emissions by 50% by 2030\"^^xsd:string ;\n",
      "  schema:image <http://example.org/images/carbon_emissions.jpg> ;\n",
      "  schema:mainEntityOfPage <http://www.example.org/news/carbon-emissions-agreement> ;\n",
      "  schema:publisher ex:publisher1 ;\n",
      "  schema:url <http://www.example.org/news/carbon-emissions-agreement> .\n",
      "\n",
      "ex:news3 a schema:NewsArticle, prov:Entity ;\n",
      "  schema:articleBody \"Renewable energy sources are becoming more cost-effective and widely adopted, helping to combat climate change.\"^^xsd:string ;\n",
      "  schema:datePublished \"2023-06-10T14:00:00+00:00\"^^schema:Date ;\n",
      "  schema:headline \"Renewable Energy Adoption on the Rise\"^^xsd:string ;\n",
      "  schema:image <http://example.org/images/renewable_energy.jpg> ;\n",
      "  schema:mainEntityOfPage <http://www.example.org/news/renewable-energy-adoption> ;\n",
      "  schema:publisher ex:publisher1 ;\n",
      "  schema:url <http://www.example.org/news/renewable-energy-adoption> .\n",
      "\n",
      "ex:publisher1 a schema:Organization ;\n",
      "    schema:logo <http://www.example.org/logo.png> ;\n",
      "    schema:name \"Example News\"^^xsd:string .\n"
     ]
    }
   ],
   "source": [
    "news_retrieval_ttl = ttl_filepath + \"news_retrieval.ttl\"\n",
    "with open(news_retrieval_ttl, mode=\"r\") as file:\n",
    "     ttl = file.read()\n",
    "     print(ttl)"
   ]
  },
  {
   "cell_type": "code",
   "execution_count": 30,
   "id": "c6c45850-db31-4c1d-ba64-9a47a4c9dac0",
   "metadata": {},
   "outputs": [
    {
     "name": "stdout",
     "output_type": "stream",
     "text": [
      "File successfully read from: ./ttl/news_retrieval.ttl\n",
      "POST request of file './ttl/news_retrieval.ttl' completed successfully\n"
     ]
    }
   ],
   "source": [
    "log_ttl(server, news_retrieval_ttl)"
   ]
  },
  {
   "cell_type": "code",
   "execution_count": 31,
   "id": "5519318f-18a7-461f-bcbb-130a0b9333a6",
   "metadata": {},
   "outputs": [
    {
     "name": "stdout",
     "output_type": "stream",
     "text": [
      "Requesting graph to the SEGB from http://127.0.0.1:5000\n",
      "File successfully downloaded to: 'graph.ttl'\n",
      "Displaying graph from file 'graph.ttl'\n",
      "\n",
      "\n",
      "\n",
      "html/segb_graph_7.html\n"
     ]
    },
    {
     "data": {
      "text/html": [
       "\n",
       "        <iframe\n",
       "            width=\"900\"\n",
       "            height=\"500\"\n",
       "            src=\"html/segb_graph_7.html\"\n",
       "            frameborder=\"0\"\n",
       "            allowfullscreen\n",
       "            \n",
       "        ></iframe>\n",
       "        "
      ],
      "text/plain": [
       "<IPython.lib.display.IFrame at 0x709fa9899060>"
      ]
     },
     "execution_count": 31,
     "metadata": {},
     "output_type": "execute_result"
    }
   ],
   "source": [
    "display_graph(\"graph.ttl\")"
   ]
  },
  {
   "cell_type": "markdown",
   "id": "e1afc7d8-a164-4449-921f-4b7178c4bd1c",
   "metadata": {},
   "source": [
    "7. Next, the robot shows the news to Maria through its screen."
   ]
  },
  {
   "cell_type": "code",
   "execution_count": 32,
   "id": "fe742661-97dd-4b9e-8699-4caf2927b0d4",
   "metadata": {},
   "outputs": [
    {
     "name": "stdout",
     "output_type": "stream",
     "text": [
      "@prefix amor-exp: <http://www.gsi.upm.es/ontologies/amor/experiments/ns#> .\n",
      "@prefix ex: <http://example.org#> .\n",
      "@prefix oro: <http://kb.openrobots.org#> .\n",
      "@prefix prov: <http://www.w3.org/ns/prov#> .\n",
      "@prefix segb: <http://www.gsi.upm.es/ontologies/segb/ns#> .\n",
      "@prefix xsd: <http://www.w3.org/2001/XMLSchema#> .\n",
      "\n",
      "ex:shownContent1 a oro:ShownContentAction, segb:LoggedActivity ;\n",
      "    amor-exp:isRelatedWithExperiment ex:experiment1 ;\n",
      "    oro:hasContent ex:news1 ;\n",
      "    oro:hasContent ex:news2 ;\n",
      "    oro:hasContent ex:news3 ;\n",
      "    segb:triggeredBy ex:decisionMaking1 ;\n",
      "    prov:startedAtTime \"2024-11-16T12:27:23\"^^xsd:dateTime ;\n",
      "    prov:endedAtTime \"2024-11-16T12:27:24\"^^xsd:dateTime ;\n",
      "    segb:wasPerformedBy ex:ari1 .\n",
      "\n",
      "ex:decisionMaking1\n",
      "    segb:producedActivityResult ex:speech1 ;\n",
      "    segb:producedActivityResult ex:shownContent1 ;\n",
      "    prov:endedAtTime \"2024-11-16T12:27:24\"^^xsd:dateTime .\n"
     ]
    }
   ],
   "source": [
    "shown_content_ttl = ttl_filepath + \"shown_content.ttl\"\n",
    "with open(shown_content_ttl, mode=\"r\") as file:\n",
    "     ttl = file.read()\n",
    "     print(ttl)"
   ]
  },
  {
   "cell_type": "code",
   "execution_count": 33,
   "id": "30fe2d41-a801-44c4-a437-6299c761cdce",
   "metadata": {},
   "outputs": [
    {
     "name": "stdout",
     "output_type": "stream",
     "text": [
      "File successfully read from: ./ttl/shown_content.ttl\n",
      "POST request of file './ttl/shown_content.ttl' completed successfully\n"
     ]
    }
   ],
   "source": [
    "log_ttl(server, shown_content_ttl)"
   ]
  },
  {
   "cell_type": "code",
   "execution_count": 34,
   "id": "56bb8287-b15b-417c-a6e6-4e6ac63c89ae",
   "metadata": {},
   "outputs": [
    {
     "name": "stdout",
     "output_type": "stream",
     "text": [
      "Requesting graph to the SEGB from http://127.0.0.1:5000\n",
      "File successfully downloaded to: 'graph.ttl'\n",
      "Displaying graph from file 'graph.ttl'\n",
      "\n",
      "\n",
      "\n",
      "html/segb_graph_8.html\n"
     ]
    },
    {
     "data": {
      "text/html": [
       "\n",
       "        <iframe\n",
       "            width=\"900\"\n",
       "            height=\"500\"\n",
       "            src=\"html/segb_graph_8.html\"\n",
       "            frameborder=\"0\"\n",
       "            allowfullscreen\n",
       "            \n",
       "        ></iframe>\n",
       "        "
      ],
      "text/plain": [
       "<IPython.lib.display.IFrame at 0x709fa98748b0>"
      ]
     },
     "execution_count": 34,
     "metadata": {},
     "output_type": "execute_result"
    }
   ],
   "source": [
    "display_graph(\"graph.ttl\")"
   ]
  },
  {
   "cell_type": "markdown",
   "id": "12e38b00-2765-48c5-bdd7-3e620b9ca17a",
   "metadata": {},
   "source": [
    "8. Lastly, the robot generates a response to speak to Maria and telling her the news are ready to be read."
   ]
  },
  {
   "cell_type": "code",
   "execution_count": 35,
   "id": "81de9f5e-1c02-4a27-9765-8211637d97a2",
   "metadata": {},
   "outputs": [
    {
     "name": "stdout",
     "output_type": "stream",
     "text": [
      "@prefix amor-exp: <http://www.gsi.upm.es/ontologies/amor/experiments/ns#> .\n",
      "@prefix ex: <http://example.org#> .\n",
      "@prefix oro: <http://kb.openrobots.org#> .\n",
      "@prefix prov: <http://www.w3.org/ns/prov#> .\n",
      "@prefix segb: <http://www.gsi.upm.es/ontologies/segb/ns#> .\n",
      "@prefix xsd: <http://www.w3.org/2001/XMLSchema#> .\n",
      "\n",
      "ex:decisionMaking1\n",
      "    segb:intermediateActivity ex:emotionDetection1 ;\n",
      "    segb:intermediateActivity ex:informationRetrieval1 ;\n",
      "    segb:usedMLModel ex:llmModel1 ;\n",
      "    segb:producedEntityResult ex:msg2 .\n",
      "\n",
      "ex:msg2 a oro:ResponseMessage, oro:Message, prov:Entity ;\n",
      "    oro:previousMessage ex:msg1 ;\n",
      "    oro:hasText \"Here's some news for you, you whiny, fearful child.\"@en ;\n",
      "    prov:wasGeneratedBy ex:decisionMaking1 .\n",
      "\n",
      "ex:msg1 oro:nextMessage ex:msg2 .\n",
      "\n",
      "ex:speech1 a oro:SpeechAction, segb:LoggedActivity ;\n",
      "    amor-exp:isRelatedWithExperiment ex:experiment1 ;\n",
      "    oro:hasSpeaker ex:ari1 ;\n",
      "    oro:hasListener ex:maria ;\n",
      "    segb:usedMLModel ex:ttsModel1 ;\n",
      "    oro:hasMessage ex:msg2 ;\n",
      "    segb:triggeredByActivity ex:decisionMaking1 ;\n",
      "    prov:startedAtTime \"2024-11-16T12:27:17\"^^xsd:dateTime ;\n",
      "    prov:endedAtTime \"2024-11-16T12:27:22\"^^xsd:dateTime ;\n",
      "    segb:wasPerformedBy ex:ari1 .\n",
      "\n"
     ]
    }
   ],
   "source": [
    "robot_response_ttl = ttl_filepath + \"robot_response.ttl\"\n",
    "with open(robot_response_ttl, mode=\"r\") as file:\n",
    "     ttl = file.read()\n",
    "     print(ttl)"
   ]
  },
  {
   "cell_type": "code",
   "execution_count": 36,
   "id": "56f628d6-7020-4c06-8280-d4d1b8d45d7d",
   "metadata": {},
   "outputs": [
    {
     "name": "stdout",
     "output_type": "stream",
     "text": [
      "File successfully read from: ./ttl/robot_response.ttl\n",
      "POST request of file './ttl/robot_response.ttl' completed successfully\n"
     ]
    }
   ],
   "source": [
    "log_ttl(server, robot_response_ttl)"
   ]
  },
  {
   "cell_type": "code",
   "execution_count": 37,
   "id": "625de056-8774-4486-b6f8-8791e256808e",
   "metadata": {},
   "outputs": [
    {
     "name": "stdout",
     "output_type": "stream",
     "text": [
      "Requesting graph to the SEGB from http://127.0.0.1:5000\n",
      "File successfully downloaded to: 'graph.ttl'\n",
      "Displaying graph from file 'graph.ttl'\n",
      "\n",
      "\n",
      "\n",
      "html/segb_graph_9.html\n"
     ]
    },
    {
     "data": {
      "text/html": [
       "\n",
       "        <iframe\n",
       "            width=\"900\"\n",
       "            height=\"500\"\n",
       "            src=\"html/segb_graph_9.html\"\n",
       "            frameborder=\"0\"\n",
       "            allowfullscreen\n",
       "            \n",
       "        ></iframe>\n",
       "        "
      ],
      "text/plain": [
       "<IPython.lib.display.IFrame at 0x709fab6636a0>"
      ]
     },
     "execution_count": 37,
     "metadata": {},
     "output_type": "execute_result"
    }
   ],
   "source": [
    "display_graph(\"graph.ttl\")"
   ]
  },
  {
   "cell_type": "markdown",
   "id": "856cc08a-4052-41b2-b4e3-6d34b1b42523",
   "metadata": {},
   "source": [
    "### Retreving the global graph"
   ]
  },
  {
   "cell_type": "markdown",
   "id": "bbcfc333-8f87-46fb-af46-214b3c58d2fb",
   "metadata": {},
   "source": [
    "With the registering of this action, the way the agent (robot) sent the information to the SEGB to keep a registry of all the events is clear. If an auditor want to analyze some specific event or robot behaviour, he/she can retrieve the global graph from the SEGB and dive into all the published *logs*:"
   ]
  },
  {
   "cell_type": "code",
   "execution_count": 38,
   "id": "d9860196-5d33-44c3-b6f8-069986caa17c",
   "metadata": {},
   "outputs": [
    {
     "name": "stdout",
     "output_type": "stream",
     "text": [
      "Requesting graph to the SEGB from http://127.0.0.1:5000\n",
      "File successfully downloaded to: 'graph.ttl'\n"
     ]
    }
   ],
   "source": [
    "get_graph(server, \"graph.ttl\")"
   ]
  },
  {
   "cell_type": "code",
   "execution_count": 39,
   "id": "a970ab54-0003-41d3-9791-f3ac88f38bae",
   "metadata": {},
   "outputs": [
    {
     "name": "stdout",
     "output_type": "stream",
     "text": [
      "@prefix amor-exp: <http://www.gsi.upm.es/ontologies/amor/experiments/ns#> .\n",
      "@prefix emoml: <http://www.gsi.upm.es/ontologies/onyx/vocabularies/emotionml/ns#> .\n",
      "@prefix ex: <http://example.org#> .\n",
      "@prefix foaf: <http://xmlns.com/foaf/0.1/> .\n",
      "@prefix mls: <http://www.w3.org/ns/mls#> .\n",
      "@prefix onyx: <http://www.gsi.upm.es/ontologies/onyx/ns#> .\n",
      "@prefix oro: <http://kb.openrobots.org#> .\n",
      "@prefix prov: <http://www.w3.org/ns/prov#> .\n",
      "@prefix rdfs: <http://www.w3.org/2000/01/rdf-schema#> .\n",
      "@prefix schema1: <http://schema.org/> .\n",
      "@prefix segb: <http://www.gsi.upm.es/ontologies/segb/ns#> .\n",
      "@prefix xsd: <http://www.w3.org/2001/XMLSchema#> .\n",
      "\n",
      "ex:numberOfFeatures_dataset1 a mls:DatasetCharacteristic ;\n",
      "    rdfs:label \"Number of features for Dataset 1\"@en ;\n",
      "    mls:hasValue \"15\"^^xsd:long .\n",
      "\n",
      "ex:tensorflow293 a mls:Software ;\n",
      "    rdfs:label \"TensorFlow 2.9.3\"@en ;\n",
      "    mls:hasPart ex:cnn_tensorflow293 .\n",
      "\n",
      "ex:accuracy a mls:EvaluationMeasure ;\n",
      "    rdfs:label \"Accuracy\"@en .\n",
      "\n",
      "ex:compatibleEmotionModel a mls:ModelCharacteristic ;\n",
      "    mls:hasValue \"Big 6 Emotion Model\"@en .\n",
      "\n",
      "ex:dataScientist1 a schema1:Person,\n",
      "        prov:Person,\n",
      "        foaf:Person ;\n",
      "    schema1:affiliation ex:upm ;\n",
      "    foaf:firstName \"Pedro\"@es ;\n",
      "    foaf:homepage <http://example.org/pedro> .\n",
      "\n",
      "ex:dataset1 a mls:Dataset ;\n",
      "    rdfs:label \"Dataset for emotion recognition.\"@en ;\n",
      "    mls:hasQuality ex:numberOfFeatures,\n",
      "        ex:numberOfInstantes .\n",
      "\n",
      "ex:emotion1 a onyx:Emotion ;\n",
      "    onyx:algorithmConfidence \"0.86\"^^xsd:float ;\n",
      "    onyx:hasEmotionCategory emoml:big6_fear ;\n",
      "    onyx:hasEmotionIntensity \"0.3\"^^xsd:float .\n",
      "\n",
      "ex:emotion2 a onyx:Emotion ;\n",
      "    onyx:algorithmConfidence \"0.93\"^^xsd:float ;\n",
      "    onyx:hasEmotionCategory emoml:big6_sadness ;\n",
      "    onyx:hasEmotionIntensity \"0.4\"^^xsd:float .\n",
      "\n",
      "ex:emotionDetectionModel1Accuracy a mls:ModelEvaluation ;\n",
      "    mls:hasValue \"0.86\"^^xsd:float ;\n",
      "    mls:specifiedBy ex:accuracy .\n",
      "\n",
      "ex:emotionExpression1 a oro:EmotionExpressionAction,\n",
      "        segb:LoggedActivity ;\n",
      "    oro:expressedEmotion emoml:big6_sadness ;\n",
      "    amor-exp:isRelatedWithExperiment ex:experiment1 ;\n",
      "    segb:triggeredByActivity ex:decisionMaking1,\n",
      "        ex:emotionDetection1,\n",
      "        ex:listeningEvent1 ;\n",
      "    segb:wasPerformedBy ex:ari1 ;\n",
      "    prov:endedAtTime \"2024-11-16T12:27:19\"^^xsd:dateTime ;\n",
      "    prov:startedAtTime \"2024-11-16T12:27:18\"^^xsd:dateTime ;\n",
      "    prov:used ex:emotionset1,\n",
      "        ex:msg1 .\n",
      "\n",
      "ex:informationRetrieval1 a oro:InformationRetrievalAction,\n",
      "        segb:LoggedActivity ;\n",
      "    oro:endPoint \"http://example.org/news_search/api\" ;\n",
      "    oro:query \"climate change\"@en ;\n",
      "    amor-exp:isRelatedWithExperiment ex:experiment1 ;\n",
      "    segb:producedEntityResult ex:news1,\n",
      "        ex:news2,\n",
      "        ex:news3 ;\n",
      "    segb:triggeredByActivity ex:decisionMaking1 ;\n",
      "    segb:wasPerformedBy ex:ari1 ;\n",
      "    prov:endedAtTime \"2024-11-16T12:27:24\"^^xsd:dateTime ;\n",
      "    prov:startedAtTime \"2024-11-16T12:27:16\"^^xsd:dateTime .\n",
      "\n",
      "ex:num_epochs a mls:HyperParameterSetting ;\n",
      "    mls:hasValue \"50\"^^xsd:long ;\n",
      "    mls:specifiedBy ex:epochs .\n",
      "\n",
      "ex:numberOfInstantes a mls:DatasetCharacteristic ;\n",
      "    rdfs:label \"Number of instances for Dataset 1\"@en ;\n",
      "    mls:hasValue \"1600\"^^xsd:long .\n",
      "\n",
      "ex:run1 a segb:LoggedActivity,\n",
      "        mls:Run ;\n",
      "    segb:producedResult ex:emotionDetectionModel1 ;\n",
      "    segb:wasPerformedBy ex:dataScientist1 ;\n",
      "    mls:executes ex:cnn_tensorflow293 ;\n",
      "    mls:hasInput ex:dataset1,\n",
      "        ex:num_epochs ;\n",
      "    mls:hasOutput ex:emotionDetectionModel1,\n",
      "        ex:emotionDetectionModel1Accuracy ;\n",
      "    mls:realizes ex:cnn ;\n",
      "    prov:endedAtTime \"2023-09-15T11:27:24\"^^xsd:dateTime ;\n",
      "    prov:startedAtTime \"2023-09-15T10:17:25\"^^xsd:dateTime .\n",
      "\n",
      "ex:shownContent1 a oro:ShownContentAction,\n",
      "        segb:LoggedActivity ;\n",
      "    oro:hasContent ex:news1,\n",
      "        ex:news2,\n",
      "        ex:news3 ;\n",
      "    amor-exp:isRelatedWithExperiment ex:experiment1 ;\n",
      "    segb:triggeredBy ex:decisionMaking1 ;\n",
      "    segb:wasPerformedBy ex:ari1 ;\n",
      "    prov:endedAtTime \"2024-11-16T12:27:24\"^^xsd:dateTime ;\n",
      "    prov:startedAtTime \"2024-11-16T12:27:23\"^^xsd:dateTime .\n",
      "\n",
      "ex:speech1 a oro:SpeechAction,\n",
      "        segb:LoggedActivity ;\n",
      "    oro:hasListener ex:maria ;\n",
      "    oro:hasMessage ex:msg2 ;\n",
      "    oro:hasSpeaker ex:ari1 ;\n",
      "    amor-exp:isRelatedWithExperiment ex:experiment1 ;\n",
      "    segb:triggeredByActivity ex:decisionMaking1 ;\n",
      "    segb:usedMLModel ex:ttsModel1 ;\n",
      "    segb:wasPerformedBy ex:ari1 ;\n",
      "    prov:endedAtTime \"2024-11-16T12:27:22\"^^xsd:dateTime ;\n",
      "    prov:startedAtTime \"2024-11-16T12:27:17\"^^xsd:dateTime .\n",
      "\n",
      "ex:upm a schema1:Organization,\n",
      "        prov:Organization,\n",
      "        foaf:Organization ;\n",
      "    schema1:name \"Technical University of Madrid\"@en,\n",
      "        \"Universidad Politécnica de Madrid\"@es ;\n",
      "    schema1:url <https://www.upm.es> .\n",
      "\n",
      "ex:cnn a mls:Algorithm ;\n",
      "    rdfs:label \"Convolutional Neural Network\"@en .\n",
      "\n",
      "ex:cnn_tensorflow293 a mls:Implementation ;\n",
      "    mls:hasHyperParameter ex:epochs ;\n",
      "    mls:implements ex:cnn .\n",
      "\n",
      "ex:emotionDetection1 a oro:EmotionRecognitionEvent,\n",
      "        onyx:EmotionAnalysis,\n",
      "        segb:LoggedActivity ;\n",
      "    amor-exp:isRelatedWithExperiment ex:experiment1 ;\n",
      "    onyx:usesEmotionModel emoml:big6 ;\n",
      "    segb:triggeredByActivity ex:decisionMaking1 ;\n",
      "    segb:usedMLModel ex:emotionDetectionModel1 ;\n",
      "    segb:wasPerformedBy ex:ari1 ;\n",
      "    prov:endedAtTime \"2024-11-16T12:27:18\"^^xsd:dateTime ;\n",
      "    prov:generated ex:emotionset1 ;\n",
      "    prov:startedAtTime \"2024-11-16T12:27:16\"^^xsd:dateTime ;\n",
      "    prov:used ex:msg1 .\n",
      "\n",
      "ex:emotionset1 a onyx:EmotionSet ;\n",
      "    onyx:hasEmotion ex:emotion1,\n",
      "        ex:emotion2 .\n",
      "\n",
      "ex:epochs a mls:HyperParameter ;\n",
      "    rdfs:label \"epochs\"@en ;\n",
      "    rdfs:description \"Number of epochs.\"@en .\n",
      "\n",
      "ex:news1 a schema1:NewsArticle,\n",
      "        prov:Entity ;\n",
      "    schema1:articleBody \"Scientists warn that the effects of climate change are accelerating, with more frequent and severe weather events.\" ;\n",
      "    schema1:datePublished \"2023-04-22T12:00:00+00:00\"^^schema1:Date ;\n",
      "    schema1:headline \"Climate Change Effects Accelerating, Scientists Warn\" ;\n",
      "    schema1:image <http://example.org/images/climate_change.jpg> ;\n",
      "    schema1:mainEntityOfPage <http://www.example.org/news/climate-change-effects> ;\n",
      "    schema1:publisher ex:publisher1 ;\n",
      "    schema1:url <http://www.example.org/news/climate-change-effects> .\n",
      "\n",
      "ex:news2 a schema1:NewsArticle,\n",
      "        prov:Entity ;\n",
      "    schema1:articleBody \"A new international agreement aims to reduce carbon emissions by 50% by 2030.\" ;\n",
      "    schema1:datePublished \"2023-05-15T09:30:00+00:00\"^^schema1:Date ;\n",
      "    schema1:headline \"International Agreement to Cut Carbon Emissions by 50% by 2030\" ;\n",
      "    schema1:image <http://example.org/images/carbon_emissions.jpg> ;\n",
      "    schema1:mainEntityOfPage <http://www.example.org/news/carbon-emissions-agreement> ;\n",
      "    schema1:publisher ex:publisher1 ;\n",
      "    schema1:url <http://www.example.org/news/carbon-emissions-agreement> .\n",
      "\n",
      "ex:news3 a schema1:NewsArticle,\n",
      "        prov:Entity ;\n",
      "    schema1:articleBody \"Renewable energy sources are becoming more cost-effective and widely adopted, helping to combat climate change.\" ;\n",
      "    schema1:datePublished \"2023-06-10T14:00:00+00:00\"^^schema1:Date ;\n",
      "    schema1:headline \"Renewable Energy Adoption on the Rise\" ;\n",
      "    schema1:image <http://example.org/images/renewable_energy.jpg> ;\n",
      "    schema1:mainEntityOfPage <http://www.example.org/news/renewable-energy-adoption> ;\n",
      "    schema1:publisher ex:publisher1 ;\n",
      "    schema1:url <http://www.example.org/news/renewable-energy-adoption> .\n",
      "\n",
      "ex:emotionDetectionModel1 a segb:Result,\n",
      "        mls:Model,\n",
      "        prov:Entity ;\n",
      "    mls:hasQuality ex:compatibleEmotionModel ;\n",
      "    prov:wasGeneratedBy ex:run1 .\n",
      "\n",
      "ex:listeningEvent1 a oro:ListeningEvent,\n",
      "        segb:LoggedActivity ;\n",
      "    oro:hasListener ex:ari1 ;\n",
      "    oro:hasMessage ex:msg1 ;\n",
      "    oro:hasSpeaker ex:maria ;\n",
      "    amor-exp:isRelatedWithExperiment ex:experiment1 ;\n",
      "    segb:usedMLModel ex:asrModel1 ;\n",
      "    segb:wasPerformedBy ex:ari1 ;\n",
      "    prov:endedAtTime \"2024-11-16T12:27:15\"^^xsd:dateTime ;\n",
      "    prov:startedAtTime \"2024-11-16T12:27:12\"^^xsd:dateTime .\n",
      "\n",
      "ex:msg2 a oro:Message,\n",
      "        oro:ResponseMessage,\n",
      "        prov:Entity ;\n",
      "    oro:hasText \"Here's some news for you, you whiny, fearful child.\"@en ;\n",
      "    oro:previousMessage ex:msg1 ;\n",
      "    prov:wasGeneratedBy ex:decisionMaking1 .\n",
      "\n",
      "ex:publisher1 a schema1:Organization ;\n",
      "    schema1:logo <http://www.example.org/logo.png> ;\n",
      "    schema1:name \"Example News\" .\n",
      "\n",
      "ex:msg1 a oro:InitialMessage,\n",
      "        oro:Message,\n",
      "        prov:Entity ;\n",
      "    oro:hasText \"Good morning, Ari. Could you show me news about the awful climate change the planet is undergoing?.\"@en ;\n",
      "    oro:nextMessage ex:msg2 ;\n",
      "    prov:wasGeneratedBy ex:listeningEvent1 .\n",
      "\n",
      "ex:maria a oro:Human,\n",
      "        schema1:Person,\n",
      "        prov:Person,\n",
      "        foaf:Person ;\n",
      "    foaf:firstName \"María\"@es .\n",
      "\n",
      "ex:decisionMaking1 a oro:DecisionMakingAction,\n",
      "        segb:LoggedActivity ;\n",
      "    amor-exp:isRelatedWithExperiment ex:experiment1 ;\n",
      "    segb:intermediateActivity ex:emotionDetection1,\n",
      "        ex:informationRetrieval1 ;\n",
      "    segb:producedActivityResult ex:emotionExpression1,\n",
      "        ex:shownContent1,\n",
      "        ex:speech1 ;\n",
      "    segb:producedEntityResult ex:msg2 ;\n",
      "    segb:triggeredByActivity ex:listeningEvent1 ;\n",
      "    segb:usedMLModel ex:decisionMakingModel1,\n",
      "        ex:llmModel1 ;\n",
      "    segb:wasPerformedBy ex:ari1 ;\n",
      "    prov:endedAtTime \"2024-11-16T12:27:24\"^^xsd:dateTime ;\n",
      "    prov:startedAtTime \"2024-11-16T12:27:15\"^^xsd:dateTime .\n",
      "\n",
      "ex:experiment1 a amor-exp:Experiment ;\n",
      "    rdfs:label \"Experiment 1\"@en ;\n",
      "    amor-exp:hasExecutor ex:ari1 ;\n",
      "    amor-exp:hasExperimentationSubject ex:maria ;\n",
      "    prov:startedAtTime \"2024-11-16T12:27:10\"^^xsd:dateTime .\n",
      "\n",
      "ex:ari1 a oro:Robot,\n",
      "        prov:SoftwareAgent ;\n",
      "    oro:belongsTo ex:maria ;\n",
      "    oro:hasName \"ARI\"@es ;\n",
      "    foaf:knows ex:maria .\n",
      "\n",
      "\n"
     ]
    }
   ],
   "source": [
    "with open(\"graph.ttl\", mode=\"r\") as file:\n",
    "     ttl = file.read()\n",
    "     print(ttl)"
   ]
  },
  {
   "cell_type": "code",
   "execution_count": 40,
   "id": "a7c7f6eb-8a94-4d6a-b324-b60cd624b223",
   "metadata": {},
   "outputs": [
    {
     "name": "stdout",
     "output_type": "stream",
     "text": [
      "Requesting graph to the SEGB from http://127.0.0.1:5000\n",
      "File successfully downloaded to: 'graph.ttl'\n",
      "Displaying graph from file 'graph.ttl'\n",
      "\n",
      "\n",
      "\n",
      "html/segb_graph_10.html\n"
     ]
    },
    {
     "data": {
      "text/html": [
       "\n",
       "        <iframe\n",
       "            width=\"900\"\n",
       "            height=\"500\"\n",
       "            src=\"html/segb_graph_10.html\"\n",
       "            frameborder=\"0\"\n",
       "            allowfullscreen\n",
       "            \n",
       "        ></iframe>\n",
       "        "
      ],
      "text/plain": [
       "<IPython.lib.display.IFrame at 0x709fa95fbfd0>"
      ]
     },
     "execution_count": 40,
     "metadata": {},
     "output_type": "execute_result"
    }
   ],
   "source": [
    "display_graph(\"graph.ttl\")"
   ]
  },
  {
   "cell_type": "markdown",
   "id": "6e3f09d1-3f18-4ab5-9185-9af2b1d59ada",
   "metadata": {},
   "source": [
    "## Auditing "
   ]
  },
  {
   "cell_type": "markdown",
   "id": "05d9f68f-c6a1-4a30-b4c4-6c8394b12fd8",
   "metadata": {},
   "source": [
    "### Queries"
   ]
  },
  {
   "cell_type": "markdown",
   "id": "0a9a8fba-88ff-4463-8c6d-88f53deb9c6f",
   "metadata": {},
   "source": [
    "We can make some queries over the resultant graph (*graph.ttl*)"
   ]
  },
  {
   "cell_type": "markdown",
   "id": "ec20d38e-4ad6-47ae-b39f-4c7f21a20aba",
   "metadata": {},
   "source": [
    "#### 1. Get all activities (LoggedActivity) performed by the Robot and which have a Message, Speaker and Listener [Verbal Communication]"
   ]
  },
  {
   "cell_type": "code",
   "execution_count": 41,
   "id": "d7a5fb97-106b-4102-9d74-923b8f3c8ba6",
   "metadata": {},
   "outputs": [
    {
     "data": {
      "text/html": [
       "<div>\n",
       "<style scoped>\n",
       "    .dataframe tbody tr th:only-of-type {\n",
       "        vertical-align: middle;\n",
       "    }\n",
       "\n",
       "    .dataframe tbody tr th {\n",
       "        vertical-align: top;\n",
       "    }\n",
       "\n",
       "    .dataframe thead th {\n",
       "        text-align: right;\n",
       "    }\n",
       "</style>\n",
       "<table border=\"1\" class=\"dataframe\">\n",
       "  <thead>\n",
       "    <tr style=\"text-align: right;\">\n",
       "      <th></th>\n",
       "      <th>activity</th>\n",
       "      <th>listener</th>\n",
       "      <th>robot</th>\n",
       "      <th>speaker</th>\n",
       "      <th>text</th>\n",
       "    </tr>\n",
       "  </thead>\n",
       "  <tbody>\n",
       "    <tr>\n",
       "      <th>0</th>\n",
       "      <td>http://example.org#speech1</td>\n",
       "      <td>http://example.org#maria</td>\n",
       "      <td>http://example.org#ari1</td>\n",
       "      <td>http://example.org#ari1</td>\n",
       "      <td>Here's some news for you, you whiny, fearful c...</td>\n",
       "    </tr>\n",
       "    <tr>\n",
       "      <th>1</th>\n",
       "      <td>http://example.org#listeningEvent1</td>\n",
       "      <td>http://example.org#ari1</td>\n",
       "      <td>http://example.org#ari1</td>\n",
       "      <td>http://example.org#maria</td>\n",
       "      <td>Good morning, Ari. Could you show me news abou...</td>\n",
       "    </tr>\n",
       "  </tbody>\n",
       "</table>\n",
       "</div>"
      ],
      "text/plain": [
       "                             activity                  listener  \\\n",
       "0          http://example.org#speech1  http://example.org#maria   \n",
       "1  http://example.org#listeningEvent1   http://example.org#ari1   \n",
       "\n",
       "                     robot                   speaker  \\\n",
       "0  http://example.org#ari1   http://example.org#ari1   \n",
       "1  http://example.org#ari1  http://example.org#maria   \n",
       "\n",
       "                                                text  \n",
       "0  Here's some news for you, you whiny, fearful c...  \n",
       "1  Good morning, Ari. Could you show me news abou...  "
      ]
     },
     "execution_count": 41,
     "metadata": {},
     "output_type": "execute_result"
    }
   ],
   "source": [
    "from rdflib import Graph\n",
    "import pandas as pd\n",
    "\n",
    "g = Graph()\n",
    "g.parse(\"graph.ttl\", format=\"turtle\")\n",
    "\n",
    "\n",
    "query = \"\"\"\n",
    "PREFIX segb: <http://www.gsi.upm.es/ontologies/segb/ns#>\n",
    "PREFIX oro: <http://kb.openrobots.org#>\n",
    "\n",
    "SELECT ?activity ?robot ?speaker ?listener ?text\n",
    "WHERE {\n",
    "?activity a segb:LoggedActivity ;\n",
    "        segb:wasPerformedBy ?robot ;\n",
    "        oro:hasMessage ?msg ;\n",
    "        oro:hasSpeaker ?speaker ;\n",
    "        oro:hasListener ?listener .\n",
    "?msg a oro:Message ;\n",
    "        oro:hasText ?text .\n",
    "}\n",
    "\"\"\"\n",
    "\n",
    "result = g.query(query)\n",
    "df = pd.DataFrame(result.bindings)\n",
    "df"
   ]
  },
  {
   "cell_type": "markdown",
   "id": "59e4b17f-0b82-495c-baec-1b19901097c0",
   "metadata": {},
   "source": [
    "#### 2. Get all Humans registered in the SEGB"
   ]
  },
  {
   "cell_type": "code",
   "execution_count": 42,
   "id": "ade3b29f-29b8-48e0-be11-127181add1f3",
   "metadata": {},
   "outputs": [
    {
     "data": {
      "text/html": [
       "<div>\n",
       "<style scoped>\n",
       "    .dataframe tbody tr th:only-of-type {\n",
       "        vertical-align: middle;\n",
       "    }\n",
       "\n",
       "    .dataframe tbody tr th {\n",
       "        vertical-align: top;\n",
       "    }\n",
       "\n",
       "    .dataframe thead th {\n",
       "        text-align: right;\n",
       "    }\n",
       "</style>\n",
       "<table border=\"1\" class=\"dataframe\">\n",
       "  <thead>\n",
       "    <tr style=\"text-align: right;\">\n",
       "      <th></th>\n",
       "      <th>firstName</th>\n",
       "      <th>person</th>\n",
       "    </tr>\n",
       "  </thead>\n",
       "  <tbody>\n",
       "    <tr>\n",
       "      <th>0</th>\n",
       "      <td>Pedro</td>\n",
       "      <td>http://example.org#dataScientist1</td>\n",
       "    </tr>\n",
       "    <tr>\n",
       "      <th>1</th>\n",
       "      <td>María</td>\n",
       "      <td>http://example.org#maria</td>\n",
       "    </tr>\n",
       "  </tbody>\n",
       "</table>\n",
       "</div>"
      ],
      "text/plain": [
       "  firstName                             person\n",
       "0     Pedro  http://example.org#dataScientist1\n",
       "1     María           http://example.org#maria"
      ]
     },
     "execution_count": 42,
     "metadata": {},
     "output_type": "execute_result"
    }
   ],
   "source": [
    "from rdflib import Graph\n",
    "import pandas as pd\n",
    "\n",
    "g = Graph()\n",
    "g.parse(\"graph.ttl\", format=\"turtle\")\n",
    "\n",
    "\n",
    "query = \"\"\"\n",
    "PREFIX prov: <http://www.w3.org/ns/prov#>\n",
    "PREFIX foaf: <http://xmlns.com/foaf/0.1/>\n",
    "PREFIX schema: <http://schema.org/>\n",
    "PREFIX oro: <http://kb.openrobots.org#>\n",
    "\n",
    "SELECT DISTINCT ?person ?firstName\n",
    "WHERE {\n",
    "  ?person a ?type .\n",
    "  FILTER(?type IN (prov:Person, foaf:Person, schema:Person, oro:Human))\n",
    "  OPTIONAL { ?person foaf:firstName ?firstName. }\n",
    "}\n",
    "\"\"\"\n",
    "\n",
    "result = g.query(query)\n",
    "df = pd.DataFrame(result.bindings)\n",
    "df"
   ]
  },
  {
   "cell_type": "markdown",
   "id": "fb72ebf1-37c0-41ca-bd5f-328fb8d73f30",
   "metadata": {},
   "source": [
    "#### Requesting the SEGB "
   ]
  },
  {
   "cell_type": "markdown",
   "id": "5f754bce-c4a7-4553-bcbf-74bb36394b7a",
   "metadata": {},
   "source": [
    "The auditor can request also some info to the SEGB. To see general info request, see LINK USAGE TUTORIAL\n",
    "In the AMOR context, the auditor can request info about the experiments that have occurred within the scenario."
   ]
  },
  {
   "cell_type": "code",
   "execution_count": 57,
   "id": "6aea5a4e-4313-42d5-b650-88cb642d3387",
   "metadata": {},
   "outputs": [],
   "source": [
    "import requests\n",
    "\n",
    "def get_experiments(\n",
    "    uri: str = None, \n",
    "    namespace: str = None, \n",
    "    experiment_id: str = None, \n",
    "    server: str = \"http://localhost:5000\", \n",
    "    token: str = \"fake_token\"\n",
    "):\n",
    "    headers = {\n",
    "        \"Authorization\": f\"Bearer {token}\"\n",
    "    }\n",
    "    url = f\"{server}/experiments\"\n",
    "    \n",
    "    params = {}\n",
    "    \n",
    "    if uri:\n",
    "        params[\"uri\"] = uri\n",
    "    elif namespace and experiment_id:\n",
    "        params[\"namespace\"] = namespace\n",
    "        params[\"experiment_id\"] = experiment_id\n",
    "    \n",
    "    response = requests.get(url, headers=headers, params=params)\n",
    "\n",
    "    if response.status_code == 200:\n",
    "        print(\"GET request completed successfully\")\n",
    "        return response.text\n",
    "    elif response.status_code == 204:\n",
    "        print(\"No experiments found.\")\n",
    "    elif response.status_code == 403:\n",
    "        print(f\"Forbidden: Insufficient permissions - {response.text}\")\n",
    "    elif response.status_code == 404:\n",
    "        print(f\"Not Found: The specified experiment was not found - {response.text}\")\n",
    "    elif response.status_code == 422:\n",
    "        print(f\"Unprocessable Entity: {response.text}\")\n",
    "    else:\n",
    "        print(f\"Unexpected status code: {response.status_code} - {response.text}\")\n"
   ]
  },
  {
   "cell_type": "markdown",
   "id": "7eab8e51-2587-4cea-afd7-ba53f3e744b5",
   "metadata": {},
   "source": [
    "We can get a list of the experiments registered in the SEGB by requesting the **/experiments** endpoint without parameters"
   ]
  },
  {
   "cell_type": "code",
   "execution_count": 58,
   "id": "027896c6-e7fc-4e8f-bd0a-085280ac510b",
   "metadata": {},
   "outputs": [
    {
     "name": "stdout",
     "output_type": "stream",
     "text": [
      "GET request completed successfully\n"
     ]
    },
    {
     "data": {
      "text/plain": [
       "'[\"http://example.org#experiment1\"]'"
      ]
     },
     "execution_count": 58,
     "metadata": {},
     "output_type": "execute_result"
    }
   ],
   "source": [
    "get_experiments()"
   ]
  },
  {
   "cell_type": "markdown",
   "id": "8856a95f-13e2-42df-b51d-219bf1bc13be",
   "metadata": {},
   "source": [
    "We can get the info of a specific experiment and its associated activities by requesting the **/experiments** endpoint passing the experiment's URI as parameter"
   ]
  },
  {
   "cell_type": "code",
   "execution_count": 59,
   "id": "33f2432f-3f2d-4ac3-bbbd-5844decd7378",
   "metadata": {},
   "outputs": [
    {
     "name": "stdout",
     "output_type": "stream",
     "text": [
      "GET request completed successfully\n"
     ]
    }
   ],
   "source": [
    "experiment = get_experiments(uri=\"http://example.org#experiment1\")"
   ]
  },
  {
   "cell_type": "code",
   "execution_count": 61,
   "id": "176fb2a1-8ec1-4f38-b2f1-c268b077cf83",
   "metadata": {},
   "outputs": [
    {
     "data": {
      "text/markdown": [
       "```\n",
       "@prefix amor-exp: <http://www.gsi.upm.es/ontologies/amor/experiments/ns#> .\n",
       "@prefix ns1: <http://www.gsi.upm.es/ontologies/onyx/ns#> .\n",
       "@prefix oro: <http://kb.openrobots.org#> .\n",
       "@prefix prov: <http://www.w3.org/ns/prov#> .\n",
       "@prefix rdfs: <http://www.w3.org/2000/01/rdf-schema#> .\n",
       "@prefix segb: <http://www.gsi.upm.es/ontologies/segb/ns#> .\n",
       "@prefix xsd: <http://www.w3.org/2001/XMLSchema#> .\n",
       "\n",
       "<http://example.org#emotionExpression1> a oro:EmotionExpressionAction,\n",
       "        segb:LoggedActivity ;\n",
       "    oro:expressedEmotion <http://www.gsi.upm.es/ontologies/onyx/vocabularies/emotionml/ns#big6_sadness> ;\n",
       "    amor-exp:isRelatedWithExperiment <http://example.org#experiment1> ;\n",
       "    segb:triggeredByActivity <http://example.org#decisionMaking1>,\n",
       "        <http://example.org#emotionDetection1>,\n",
       "        <http://example.org#listeningEvent1> ;\n",
       "    segb:wasPerformedBy <http://example.org#ari1> ;\n",
       "    prov:endedAtTime \"2024-11-16T12:27:19\"^^xsd:dateTime ;\n",
       "    prov:startedAtTime \"2024-11-16T12:27:18\"^^xsd:dateTime ;\n",
       "    prov:used <http://example.org#emotionset1>,\n",
       "        <http://example.org#msg1> .\n",
       "\n",
       "<http://example.org#informationRetrieval1> a oro:InformationRetrievalAction,\n",
       "        segb:LoggedActivity ;\n",
       "    oro:endPoint \"http://example.org/news_search/api\" ;\n",
       "    oro:query \"climate change\"@en ;\n",
       "    amor-exp:isRelatedWithExperiment <http://example.org#experiment1> ;\n",
       "    segb:producedEntityResult <http://example.org#news1>,\n",
       "        <http://example.org#news2>,\n",
       "        <http://example.org#news3> ;\n",
       "    segb:triggeredByActivity <http://example.org#decisionMaking1> ;\n",
       "    segb:wasPerformedBy <http://example.org#ari1> ;\n",
       "    prov:endedAtTime \"2024-11-16T12:27:24\"^^xsd:dateTime ;\n",
       "    prov:startedAtTime \"2024-11-16T12:27:16\"^^xsd:dateTime .\n",
       "\n",
       "<http://example.org#shownContent1> a oro:ShownContentAction,\n",
       "        segb:LoggedActivity ;\n",
       "    oro:hasContent <http://example.org#news1>,\n",
       "        <http://example.org#news2>,\n",
       "        <http://example.org#news3> ;\n",
       "    amor-exp:isRelatedWithExperiment <http://example.org#experiment1> ;\n",
       "    segb:triggeredBy <http://example.org#decisionMaking1> ;\n",
       "    segb:wasPerformedBy <http://example.org#ari1> ;\n",
       "    prov:endedAtTime \"2024-11-16T12:27:24\"^^xsd:dateTime ;\n",
       "    prov:startedAtTime \"2024-11-16T12:27:23\"^^xsd:dateTime .\n",
       "\n",
       "<http://example.org#speech1> a oro:SpeechAction,\n",
       "        segb:LoggedActivity ;\n",
       "    oro:hasListener <http://example.org#maria> ;\n",
       "    oro:hasMessage <http://example.org#msg2> ;\n",
       "    oro:hasSpeaker <http://example.org#ari1> ;\n",
       "    amor-exp:isRelatedWithExperiment <http://example.org#experiment1> ;\n",
       "    segb:triggeredByActivity <http://example.org#decisionMaking1> ;\n",
       "    segb:usedMLModel <http://example.org#ttsModel1> ;\n",
       "    segb:wasPerformedBy <http://example.org#ari1> ;\n",
       "    prov:endedAtTime \"2024-11-16T12:27:22\"^^xsd:dateTime ;\n",
       "    prov:startedAtTime \"2024-11-16T12:27:17\"^^xsd:dateTime .\n",
       "\n",
       "<http://example.org#emotionDetection1> a oro:EmotionRecognitionEvent,\n",
       "        ns1:EmotionAnalysis,\n",
       "        segb:LoggedActivity ;\n",
       "    amor-exp:isRelatedWithExperiment <http://example.org#experiment1> ;\n",
       "    ns1:usesEmotionModel <http://www.gsi.upm.es/ontologies/onyx/vocabularies/emotionml/ns#big6> ;\n",
       "    segb:triggeredByActivity <http://example.org#decisionMaking1> ;\n",
       "    segb:usedMLModel <http://example.org#emotionDetectionModel1> ;\n",
       "    segb:wasPerformedBy <http://example.org#ari1> ;\n",
       "    prov:endedAtTime \"2024-11-16T12:27:18\"^^xsd:dateTime ;\n",
       "    prov:generated <http://example.org#emotionset1> ;\n",
       "    prov:startedAtTime \"2024-11-16T12:27:16\"^^xsd:dateTime ;\n",
       "    prov:used <http://example.org#msg1> .\n",
       "\n",
       "<http://example.org#listeningEvent1> a oro:ListeningEvent,\n",
       "        segb:LoggedActivity ;\n",
       "    oro:hasListener <http://example.org#ari1> ;\n",
       "    oro:hasMessage <http://example.org#msg1> ;\n",
       "    oro:hasSpeaker <http://example.org#maria> ;\n",
       "    amor-exp:isRelatedWithExperiment <http://example.org#experiment1> ;\n",
       "    segb:usedMLModel <http://example.org#asrModel1> ;\n",
       "    segb:wasPerformedBy <http://example.org#ari1> ;\n",
       "    prov:endedAtTime \"2024-11-16T12:27:15\"^^xsd:dateTime ;\n",
       "    prov:startedAtTime \"2024-11-16T12:27:12\"^^xsd:dateTime .\n",
       "\n",
       "<http://example.org#msg2> a oro:Message,\n",
       "        oro:ResponseMessage,\n",
       "        prov:Entity ;\n",
       "    oro:hasText \"Here's some news for you, you whiny, fearful child.\"@en ;\n",
       "    oro:previousMessage <http://example.org#msg1> ;\n",
       "    prov:wasGeneratedBy <http://example.org#decisionMaking1> .\n",
       "\n",
       "<http://example.org#msg1> a oro:InitialMessage,\n",
       "        oro:Message,\n",
       "        prov:Entity ;\n",
       "    oro:hasText \"Good morning, Ari. Could you show me news about the awful climate change the planet is undergoing?.\"@en ;\n",
       "    oro:nextMessage <http://example.org#msg2> ;\n",
       "    prov:wasGeneratedBy <http://example.org#listeningEvent1> .\n",
       "\n",
       "<http://example.org#decisionMaking1> a oro:DecisionMakingAction,\n",
       "        segb:LoggedActivity ;\n",
       "    amor-exp:isRelatedWithExperiment <http://example.org#experiment1> ;\n",
       "    segb:intermediateActivity <http://example.org#emotionDetection1>,\n",
       "        <http://example.org#informationRetrieval1> ;\n",
       "    segb:producedActivityResult <http://example.org#emotionExpression1>,\n",
       "        <http://example.org#shownContent1>,\n",
       "        <http://example.org#speech1> ;\n",
       "    segb:producedEntityResult <http://example.org#msg2> ;\n",
       "    segb:triggeredByActivity <http://example.org#listeningEvent1> ;\n",
       "    segb:usedMLModel <http://example.org#decisionMakingModel1>,\n",
       "        <http://example.org#llmModel1> ;\n",
       "    segb:wasPerformedBy <http://example.org#ari1> ;\n",
       "    prov:endedAtTime \"2024-11-16T12:27:24\"^^xsd:dateTime ;\n",
       "    prov:startedAtTime \"2024-11-16T12:27:15\"^^xsd:dateTime .\n",
       "\n",
       "<http://example.org#experiment1> a amor-exp:Experiment ;\n",
       "    rdfs:label \"Experiment 1\"@en ;\n",
       "    amor-exp:hasExecutor <http://example.org#ari1> ;\n",
       "    amor-exp:hasExperimentationSubject <http://example.org#maria> ;\n",
       "    prov:startedAtTime \"2024-11-16T12:27:10\"^^xsd:dateTime .\n",
       "\n",
       "\n",
       "```"
      ],
      "text/plain": [
       "<IPython.core.display.Markdown object>"
      ]
     },
     "metadata": {},
     "output_type": "display_data"
    }
   ],
   "source": [
    "print(experiment)"
   ]
  },
  {
   "cell_type": "code",
   "execution_count": null,
   "id": "8460c5d0-cc89-4bc9-b143-884be9fde2e7",
   "metadata": {},
   "outputs": [],
   "source": []
  }
 ],
 "metadata": {
  "kernelspec": {
   "display_name": "Python 3 (ipykernel)",
   "language": "python",
   "name": "python3"
  },
  "language_info": {
   "codemirror_mode": {
    "name": "ipython",
    "version": 3
   },
   "file_extension": ".py",
   "mimetype": "text/x-python",
   "name": "python",
   "nbconvert_exporter": "python",
   "pygments_lexer": "ipython3",
   "version": "3.10.16"
  }
 },
 "nbformat": 4,
 "nbformat_minor": 5
}
