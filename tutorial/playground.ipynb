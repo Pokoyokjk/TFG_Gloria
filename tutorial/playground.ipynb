{
 "cells": [
  {
   "cell_type": "code",
   "execution_count": 9,
   "metadata": {},
   "outputs": [],
   "source": [
    "server = \"http://127.0.0.1:5000\"\n",
    "import requests"
   ]
  },
  {
   "cell_type": "code",
   "execution_count": 10,
   "metadata": {},
   "outputs": [],
   "source": [
    "def log_ttl(server: str, input_file_path: str):\n",
    "    \n",
    "    \"\"\"Log a TTL file to the SEGB.\n",
    "\n",
    "    Reads a Turtle (TTL) file from the specified path and sends its content\n",
    "    to the SEGB's `/log` endpoint via a POST request.\n",
    "\n",
    "    Args:\n",
    "        server (str): The base URL of the SEGB server (e.g., \"http://127.0.0.1:5000\").\n",
    "        input_file_path (str): The path to the TTL file to be logged.\n",
    "    \n",
    "    Example:\n",
    "        >>> log_ttl(\"http://127.0.0.1:5000\", \"/path/to/file/data.ttl\")\n",
    "    \"\"\"\n",
    "    \n",
    "    with open(input_file_path, mode=\"r\", encoding=\"utf-8\") as file:\n",
    "        data = file.read()\n",
    "        print(\"File successfully read from:\", input_file_path)\n",
    "    \n",
    "    headers = {\n",
    "        \"Content-Type\": \"text/turtle\"\n",
    "    }\n",
    "    \n",
    "    response = requests.post(f\"{server}/log\", headers=headers, data=data)\n",
    "    \n",
    "    if response.status_code == 200:\n",
    "        print(f\"POST request of file '{input_file_path}' completed successfully\")\n",
    "    else:\n",
    "        print(f\"Error in POST: {response.status_code} - {response.text}\")"
   ]
  },
  {
   "cell_type": "code",
   "execution_count": 11,
   "metadata": {},
   "outputs": [],
   "source": [
    "def get_graph(server: str, output_file_path: str):\n",
    "    \"\"\"Download the complete graph stored in the SEGB.\n",
    "\n",
    "    Sends a GET request to the SEGB's `/get_graph` endpoint to retrieve the\n",
    "    complete graph in Turtle format and saves it to the specified output file.\n",
    "\n",
    "    Args:\n",
    "        server (str): The base URL of the SEGB server (e.g., \"http://127.0.0.1:5000\").\n",
    "        output_file_path (str): The path where the downloaded graph will be saved.\n",
    "    \n",
    "    Example:\n",
    "        >>> get_graph(\"http://127.0.0.1:5000\", \"/path/to/output/graph.ttl\")\n",
    "    \"\"\"\n",
    "    print(f\"Requesting graph to the SEGB from {server}\")\n",
    "    \n",
    "    response = requests.get(f\"{server}/get_graph\")\n",
    "    \n",
    "    if response.status_code == 200:\n",
    "        with open(output_file_path, mode=\"w\", encoding=\"utf-8\") as file:\n",
    "            file.write(response.text)\n",
    "        print(f\"File successfully downloaded to: '{output_file_path}'\")\n",
    "\n",
    "    else:\n",
    "        print(f\"Error in GET: {response.status_code} - {response.text}\")"
   ]
  },
  {
   "cell_type": "code",
   "execution_count": 12,
   "metadata": {},
   "outputs": [],
   "source": [
    "def get_experiment_with_activities(server: str, output_file_path: str, params: dict):\n",
    "    print(f\"Requesting graph to the SEGB from {server}\")\n",
    "    headers = {\n",
    "        \"Accept\": \"application/json\"\n",
    "    }\n",
    "    response = requests.get(f\"{server}/get_experiment\", headers=headers, params=params)\n",
    "    \n",
    "    if response.status_code == 200:\n",
    "        with open(output_file_path, mode=\"w\", encoding=\"utf-8\") as file:\n",
    "            file.write(response.text)\n",
    "        print(f\"File successfully downloaded to: '{output_file_path}'\")\n",
    "\n",
    "    else:\n",
    "        print(f\"Error in GET: {response.status_code} - {response.text}\")"
   ]
  },
  {
   "cell_type": "code",
   "execution_count": 13,
   "metadata": {},
   "outputs": [
    {
     "name": "stdout",
     "output_type": "stream",
     "text": [
      "File successfully read from: ../ontology/example.ttl\n",
      "POST request of file '../ontology/example.ttl' completed successfully\n"
     ]
    }
   ],
   "source": [
    "example_ttl = \"../ontology/example.ttl\"\n",
    "log_ttl(server, example_ttl)"
   ]
  },
  {
   "cell_type": "code",
   "execution_count": null,
   "metadata": {},
   "outputs": [
    {
     "name": "stdout",
     "output_type": "stream",
     "text": [
      "Requesting graph to the SEGB from http://127.0.0.1:5000\n"
     ]
    },
    {
     "ename": "FileNotFoundError",
     "evalue": "[Errno 2] No such file or directory: './playground/test0.ttl'",
     "output_type": "error",
     "traceback": [
      "\u001b[31m---------------------------------------------------------------------------\u001b[39m",
      "\u001b[31mFileNotFoundError\u001b[39m                         Traceback (most recent call last)",
      "\u001b[36mCell\u001b[39m\u001b[36m \u001b[39m\u001b[32mIn[14]\u001b[39m\u001b[32m, line 5\u001b[39m\n\u001b[32m      1\u001b[39m params = {\n\u001b[32m      2\u001b[39m     \u001b[33m\"\u001b[39m\u001b[33mnamespace\u001b[39m\u001b[33m\"\u001b[39m: \u001b[33m\"\u001b[39m\u001b[33mhttp://www.gsi.upm.es/ontologies/segb/examples#\u001b[39m\u001b[33m\"\u001b[39m,\n\u001b[32m      3\u001b[39m     \u001b[33m\"\u001b[39m\u001b[33mexperiment_id\u001b[39m\u001b[33m\"\u001b[39m: \u001b[33m\"\u001b[39m\u001b[33mexperiment1\u001b[39m\u001b[33m\"\u001b[39m\n\u001b[32m      4\u001b[39m }\n\u001b[32m----> \u001b[39m\u001b[32m5\u001b[39m \u001b[43mget_experiment_with_activities\u001b[49m\u001b[43m(\u001b[49m\u001b[43mserver\u001b[49m\u001b[43m,\u001b[49m\u001b[43m \u001b[49m\u001b[33;43m\"\u001b[39;49m\u001b[33;43m./playground/test0.ttl\u001b[39;49m\u001b[33;43m\"\u001b[39;49m\u001b[43m,\u001b[49m\u001b[43m \u001b[49m\u001b[43mparams\u001b[49m\u001b[43m=\u001b[49m\u001b[43mparams\u001b[49m\u001b[43m)\u001b[49m\n",
      "\u001b[36mCell\u001b[39m\u001b[36m \u001b[39m\u001b[32mIn[12]\u001b[39m\u001b[32m, line 9\u001b[39m, in \u001b[36mget_experiment_with_activities\u001b[39m\u001b[34m(server, output_file_path, params)\u001b[39m\n\u001b[32m      6\u001b[39m response = requests.get(\u001b[33mf\u001b[39m\u001b[33m\"\u001b[39m\u001b[38;5;132;01m{\u001b[39;00mserver\u001b[38;5;132;01m}\u001b[39;00m\u001b[33m/get_experiment\u001b[39m\u001b[33m\"\u001b[39m, headers=headers, params=params)\n\u001b[32m      8\u001b[39m \u001b[38;5;28;01mif\u001b[39;00m response.status_code == \u001b[32m200\u001b[39m:\n\u001b[32m----> \u001b[39m\u001b[32m9\u001b[39m     \u001b[38;5;28;01mwith\u001b[39;00m \u001b[38;5;28;43mopen\u001b[39;49m\u001b[43m(\u001b[49m\u001b[43moutput_file_path\u001b[49m\u001b[43m,\u001b[49m\u001b[43m \u001b[49m\u001b[43mmode\u001b[49m\u001b[43m=\u001b[49m\u001b[33;43m\"\u001b[39;49m\u001b[33;43mw\u001b[39;49m\u001b[33;43m\"\u001b[39;49m\u001b[43m,\u001b[49m\u001b[43m \u001b[49m\u001b[43mencoding\u001b[49m\u001b[43m=\u001b[49m\u001b[33;43m\"\u001b[39;49m\u001b[33;43mutf-8\u001b[39;49m\u001b[33;43m\"\u001b[39;49m\u001b[43m)\u001b[49m \u001b[38;5;28;01mas\u001b[39;00m file:\n\u001b[32m     10\u001b[39m         file.write(response.text)\n\u001b[32m     11\u001b[39m     \u001b[38;5;28mprint\u001b[39m(\u001b[33mf\u001b[39m\u001b[33m\"\u001b[39m\u001b[33mFile successfully downloaded to: \u001b[39m\u001b[33m'\u001b[39m\u001b[38;5;132;01m{\u001b[39;00moutput_file_path\u001b[38;5;132;01m}\u001b[39;00m\u001b[33m'\u001b[39m\u001b[33m\"\u001b[39m)\n",
      "\u001b[36mFile \u001b[39m\u001b[32m~/git/amor-robots/amor-segb/.venv/lib/python3.12/site-packages/IPython/core/interactiveshell.py:325\u001b[39m, in \u001b[36m_modified_open\u001b[39m\u001b[34m(file, *args, **kwargs)\u001b[39m\n\u001b[32m    318\u001b[39m \u001b[38;5;28;01mif\u001b[39;00m file \u001b[38;5;129;01min\u001b[39;00m {\u001b[32m0\u001b[39m, \u001b[32m1\u001b[39m, \u001b[32m2\u001b[39m}:\n\u001b[32m    319\u001b[39m     \u001b[38;5;28;01mraise\u001b[39;00m \u001b[38;5;167;01mValueError\u001b[39;00m(\n\u001b[32m    320\u001b[39m         \u001b[33mf\u001b[39m\u001b[33m\"\u001b[39m\u001b[33mIPython won\u001b[39m\u001b[33m'\u001b[39m\u001b[33mt let you open fd=\u001b[39m\u001b[38;5;132;01m{\u001b[39;00mfile\u001b[38;5;132;01m}\u001b[39;00m\u001b[33m by default \u001b[39m\u001b[33m\"\u001b[39m\n\u001b[32m    321\u001b[39m         \u001b[33m\"\u001b[39m\u001b[33mas it is likely to crash IPython. If you know what you are doing, \u001b[39m\u001b[33m\"\u001b[39m\n\u001b[32m    322\u001b[39m         \u001b[33m\"\u001b[39m\u001b[33myou can use builtins\u001b[39m\u001b[33m'\u001b[39m\u001b[33m open.\u001b[39m\u001b[33m\"\u001b[39m\n\u001b[32m    323\u001b[39m     )\n\u001b[32m--> \u001b[39m\u001b[32m325\u001b[39m \u001b[38;5;28;01mreturn\u001b[39;00m \u001b[43mio_open\u001b[49m\u001b[43m(\u001b[49m\u001b[43mfile\u001b[49m\u001b[43m,\u001b[49m\u001b[43m \u001b[49m\u001b[43m*\u001b[49m\u001b[43margs\u001b[49m\u001b[43m,\u001b[49m\u001b[43m \u001b[49m\u001b[43m*\u001b[49m\u001b[43m*\u001b[49m\u001b[43mkwargs\u001b[49m\u001b[43m)\u001b[49m\n",
      "\u001b[31mFileNotFoundError\u001b[39m: [Errno 2] No such file or directory: './playground/test0.ttl'"
     ]
    }
   ],
   "source": [
    "\n",
    "params = {\n",
    "    \"namespace\": \"http://www.gsi.upm.es/ontologies/segb/examples#\",\n",
    "    \"experiment_id\": \"experiment1\"\n",
    "}\n",
    "get_experiment_with_activities(server, \"../playground/test0.ttl\", params=params)"
   ]
  },
  {
   "cell_type": "code",
   "execution_count": null,
   "metadata": {},
   "outputs": [
    {
     "name": "stdout",
     "output_type": "stream",
     "text": [
      "Requesting graph to the SEGB from http://127.0.0.1:5000\n",
      "File successfully downloaded to: './experiment_uri.ttl'\n"
     ]
    }
   ],
   "source": [
    "\n",
    "params = {\n",
    "    \"uri\": \"http://www.gsi.upm.es/ontologies/segb/examples#experiment1\"\n",
    "}\n",
    "get_experiment_with_activities(server, \"../playground/test1.ttl\", params=params)"
   ]
  },
  {
   "cell_type": "code",
   "execution_count": null,
   "metadata": {},
   "outputs": [
    {
     "name": "stdout",
     "output_type": "stream",
     "text": [
      "Requesting graph to the SEGB from http://127.0.0.1:5000\n",
      "File successfully downloaded to: './experiment_2.ttl'\n"
     ]
    }
   ],
   "source": [
    "\n",
    "params = {\n",
    "    \"namespace\": \"ttp://www.gsi.upmafa/examples#\",\n",
    "    \"experiment_id\": \"asdñklfjasljfa\",\n",
    "    \"uri\": \"http://www.gsi.upm.es/ontologies/segb/examples#experiment1\"\n",
    "}\n",
    "get_experiment_with_activities(server, \"../playground/test2.ttl\", params=params)"
   ]
  }
 ],
 "metadata": {
  "kernelspec": {
   "display_name": ".venv",
   "language": "python",
   "name": "python3"
  },
  "language_info": {
   "codemirror_mode": {
    "name": "ipython",
    "version": 3
   },
   "file_extension": ".py",
   "mimetype": "text/x-python",
   "name": "python",
   "nbconvert_exporter": "python",
   "pygments_lexer": "ipython3",
   "version": "3.12.7"
  }
 },
 "nbformat": 4,
 "nbformat_minor": 2
}
